{
 "cells": [
  {
   "cell_type": "code",
   "execution_count": 1,
   "metadata": {},
   "outputs": [],
   "source": [
    "import pandas as pd\n",
    "import numpy as np"
   ]
  },
  {
   "cell_type": "code",
   "execution_count": 2,
   "metadata": {},
   "outputs": [],
   "source": [
    "iris=pd.read_csv(\"C:\\\\Users\\\\PRASHANT\\\\Desktop\\\\tensorflow udemy course\\\\TF_2_Notebooks_and_Data\\\\DATA\\\\iris.csv\")"
   ]
  },
  {
   "cell_type": "code",
   "execution_count": 3,
   "metadata": {},
   "outputs": [
    {
     "data": {
      "text/html": [
       "<div>\n",
       "<style scoped>\n",
       "    .dataframe tbody tr th:only-of-type {\n",
       "        vertical-align: middle;\n",
       "    }\n",
       "\n",
       "    .dataframe tbody tr th {\n",
       "        vertical-align: top;\n",
       "    }\n",
       "\n",
       "    .dataframe thead th {\n",
       "        text-align: right;\n",
       "    }\n",
       "</style>\n",
       "<table border=\"1\" class=\"dataframe\">\n",
       "  <thead>\n",
       "    <tr style=\"text-align: right;\">\n",
       "      <th></th>\n",
       "      <th>sepal_length</th>\n",
       "      <th>sepal_width</th>\n",
       "      <th>petal_length</th>\n",
       "      <th>petal_width</th>\n",
       "      <th>species</th>\n",
       "    </tr>\n",
       "  </thead>\n",
       "  <tbody>\n",
       "    <tr>\n",
       "      <td>0</td>\n",
       "      <td>5.1</td>\n",
       "      <td>3.5</td>\n",
       "      <td>1.4</td>\n",
       "      <td>0.2</td>\n",
       "      <td>setosa</td>\n",
       "    </tr>\n",
       "    <tr>\n",
       "      <td>1</td>\n",
       "      <td>4.9</td>\n",
       "      <td>3.0</td>\n",
       "      <td>1.4</td>\n",
       "      <td>0.2</td>\n",
       "      <td>setosa</td>\n",
       "    </tr>\n",
       "    <tr>\n",
       "      <td>2</td>\n",
       "      <td>4.7</td>\n",
       "      <td>3.2</td>\n",
       "      <td>1.3</td>\n",
       "      <td>0.2</td>\n",
       "      <td>setosa</td>\n",
       "    </tr>\n",
       "    <tr>\n",
       "      <td>3</td>\n",
       "      <td>4.6</td>\n",
       "      <td>3.1</td>\n",
       "      <td>1.5</td>\n",
       "      <td>0.2</td>\n",
       "      <td>setosa</td>\n",
       "    </tr>\n",
       "    <tr>\n",
       "      <td>4</td>\n",
       "      <td>5.0</td>\n",
       "      <td>3.6</td>\n",
       "      <td>1.4</td>\n",
       "      <td>0.2</td>\n",
       "      <td>setosa</td>\n",
       "    </tr>\n",
       "  </tbody>\n",
       "</table>\n",
       "</div>"
      ],
      "text/plain": [
       "   sepal_length  sepal_width  petal_length  petal_width species\n",
       "0           5.1          3.5           1.4          0.2  setosa\n",
       "1           4.9          3.0           1.4          0.2  setosa\n",
       "2           4.7          3.2           1.3          0.2  setosa\n",
       "3           4.6          3.1           1.5          0.2  setosa\n",
       "4           5.0          3.6           1.4          0.2  setosa"
      ]
     },
     "execution_count": 3,
     "metadata": {},
     "output_type": "execute_result"
    }
   ],
   "source": [
    "iris.head()"
   ]
  },
  {
   "cell_type": "code",
   "execution_count": 4,
   "metadata": {},
   "outputs": [],
   "source": [
    "X=iris.drop('species',axis=1)"
   ]
  },
  {
   "cell_type": "code",
   "execution_count": 5,
   "metadata": {},
   "outputs": [
    {
     "data": {
      "text/html": [
       "<div>\n",
       "<style scoped>\n",
       "    .dataframe tbody tr th:only-of-type {\n",
       "        vertical-align: middle;\n",
       "    }\n",
       "\n",
       "    .dataframe tbody tr th {\n",
       "        vertical-align: top;\n",
       "    }\n",
       "\n",
       "    .dataframe thead th {\n",
       "        text-align: right;\n",
       "    }\n",
       "</style>\n",
       "<table border=\"1\" class=\"dataframe\">\n",
       "  <thead>\n",
       "    <tr style=\"text-align: right;\">\n",
       "      <th></th>\n",
       "      <th>sepal_length</th>\n",
       "      <th>sepal_width</th>\n",
       "      <th>petal_length</th>\n",
       "      <th>petal_width</th>\n",
       "    </tr>\n",
       "  </thead>\n",
       "  <tbody>\n",
       "    <tr>\n",
       "      <td>0</td>\n",
       "      <td>5.1</td>\n",
       "      <td>3.5</td>\n",
       "      <td>1.4</td>\n",
       "      <td>0.2</td>\n",
       "    </tr>\n",
       "    <tr>\n",
       "      <td>1</td>\n",
       "      <td>4.9</td>\n",
       "      <td>3.0</td>\n",
       "      <td>1.4</td>\n",
       "      <td>0.2</td>\n",
       "    </tr>\n",
       "    <tr>\n",
       "      <td>2</td>\n",
       "      <td>4.7</td>\n",
       "      <td>3.2</td>\n",
       "      <td>1.3</td>\n",
       "      <td>0.2</td>\n",
       "    </tr>\n",
       "    <tr>\n",
       "      <td>3</td>\n",
       "      <td>4.6</td>\n",
       "      <td>3.1</td>\n",
       "      <td>1.5</td>\n",
       "      <td>0.2</td>\n",
       "    </tr>\n",
       "    <tr>\n",
       "      <td>4</td>\n",
       "      <td>5.0</td>\n",
       "      <td>3.6</td>\n",
       "      <td>1.4</td>\n",
       "      <td>0.2</td>\n",
       "    </tr>\n",
       "    <tr>\n",
       "      <td>...</td>\n",
       "      <td>...</td>\n",
       "      <td>...</td>\n",
       "      <td>...</td>\n",
       "      <td>...</td>\n",
       "    </tr>\n",
       "    <tr>\n",
       "      <td>145</td>\n",
       "      <td>6.7</td>\n",
       "      <td>3.0</td>\n",
       "      <td>5.2</td>\n",
       "      <td>2.3</td>\n",
       "    </tr>\n",
       "    <tr>\n",
       "      <td>146</td>\n",
       "      <td>6.3</td>\n",
       "      <td>2.5</td>\n",
       "      <td>5.0</td>\n",
       "      <td>1.9</td>\n",
       "    </tr>\n",
       "    <tr>\n",
       "      <td>147</td>\n",
       "      <td>6.5</td>\n",
       "      <td>3.0</td>\n",
       "      <td>5.2</td>\n",
       "      <td>2.0</td>\n",
       "    </tr>\n",
       "    <tr>\n",
       "      <td>148</td>\n",
       "      <td>6.2</td>\n",
       "      <td>3.4</td>\n",
       "      <td>5.4</td>\n",
       "      <td>2.3</td>\n",
       "    </tr>\n",
       "    <tr>\n",
       "      <td>149</td>\n",
       "      <td>5.9</td>\n",
       "      <td>3.0</td>\n",
       "      <td>5.1</td>\n",
       "      <td>1.8</td>\n",
       "    </tr>\n",
       "  </tbody>\n",
       "</table>\n",
       "<p>150 rows × 4 columns</p>\n",
       "</div>"
      ],
      "text/plain": [
       "     sepal_length  sepal_width  petal_length  petal_width\n",
       "0             5.1          3.5           1.4          0.2\n",
       "1             4.9          3.0           1.4          0.2\n",
       "2             4.7          3.2           1.3          0.2\n",
       "3             4.6          3.1           1.5          0.2\n",
       "4             5.0          3.6           1.4          0.2\n",
       "..            ...          ...           ...          ...\n",
       "145           6.7          3.0           5.2          2.3\n",
       "146           6.3          2.5           5.0          1.9\n",
       "147           6.5          3.0           5.2          2.0\n",
       "148           6.2          3.4           5.4          2.3\n",
       "149           5.9          3.0           5.1          1.8\n",
       "\n",
       "[150 rows x 4 columns]"
      ]
     },
     "execution_count": 5,
     "metadata": {},
     "output_type": "execute_result"
    }
   ],
   "source": [
    "X"
   ]
  },
  {
   "cell_type": "code",
   "execution_count": 6,
   "metadata": {},
   "outputs": [],
   "source": [
    "y=iris['species']"
   ]
  },
  {
   "cell_type": "code",
   "execution_count": 7,
   "metadata": {},
   "outputs": [
    {
     "data": {
      "text/plain": [
       "0         setosa\n",
       "1         setosa\n",
       "2         setosa\n",
       "3         setosa\n",
       "4         setosa\n",
       "         ...    \n",
       "145    virginica\n",
       "146    virginica\n",
       "147    virginica\n",
       "148    virginica\n",
       "149    virginica\n",
       "Name: species, Length: 150, dtype: object"
      ]
     },
     "execution_count": 7,
     "metadata": {},
     "output_type": "execute_result"
    }
   ],
   "source": [
    "y"
   ]
  },
  {
   "cell_type": "code",
   "execution_count": 8,
   "metadata": {},
   "outputs": [],
   "source": [
    "#X is 2d matrix and y is one dimensional matrix"
   ]
  },
  {
   "cell_type": "code",
   "execution_count": 9,
   "metadata": {},
   "outputs": [
    {
     "data": {
      "text/plain": [
       "array(['setosa', 'versicolor', 'virginica'], dtype=object)"
      ]
     },
     "execution_count": 9,
     "metadata": {},
     "output_type": "execute_result"
    }
   ],
   "source": [
    "y.unique()"
   ]
  },
  {
   "cell_type": "code",
   "execution_count": 10,
   "metadata": {},
   "outputs": [],
   "source": [
    "#here there are three classes"
   ]
  },
  {
   "cell_type": "code",
   "execution_count": 11,
   "metadata": {},
   "outputs": [],
   "source": [
    "from sklearn.preprocessing import LabelBinarizer"
   ]
  },
  {
   "cell_type": "code",
   "execution_count": 12,
   "metadata": {},
   "outputs": [],
   "source": [
    " encoder=LabelBinarizer()"
   ]
  },
  {
   "cell_type": "code",
   "execution_count": 13,
   "metadata": {},
   "outputs": [],
   "source": [
    "y=encoder.fit_transform(y)"
   ]
  },
  {
   "cell_type": "code",
   "execution_count": 14,
   "metadata": {},
   "outputs": [
    {
     "data": {
      "text/plain": [
       "array([[1, 0, 0],\n",
       "       [1, 0, 0],\n",
       "       [1, 0, 0],\n",
       "       [1, 0, 0],\n",
       "       [1, 0, 0],\n",
       "       [1, 0, 0],\n",
       "       [1, 0, 0],\n",
       "       [1, 0, 0],\n",
       "       [1, 0, 0],\n",
       "       [1, 0, 0],\n",
       "       [1, 0, 0],\n",
       "       [1, 0, 0],\n",
       "       [1, 0, 0],\n",
       "       [1, 0, 0],\n",
       "       [1, 0, 0],\n",
       "       [1, 0, 0],\n",
       "       [1, 0, 0],\n",
       "       [1, 0, 0],\n",
       "       [1, 0, 0],\n",
       "       [1, 0, 0],\n",
       "       [1, 0, 0],\n",
       "       [1, 0, 0],\n",
       "       [1, 0, 0],\n",
       "       [1, 0, 0],\n",
       "       [1, 0, 0],\n",
       "       [1, 0, 0],\n",
       "       [1, 0, 0],\n",
       "       [1, 0, 0],\n",
       "       [1, 0, 0],\n",
       "       [1, 0, 0],\n",
       "       [1, 0, 0],\n",
       "       [1, 0, 0],\n",
       "       [1, 0, 0],\n",
       "       [1, 0, 0],\n",
       "       [1, 0, 0],\n",
       "       [1, 0, 0],\n",
       "       [1, 0, 0],\n",
       "       [1, 0, 0],\n",
       "       [1, 0, 0],\n",
       "       [1, 0, 0],\n",
       "       [1, 0, 0],\n",
       "       [1, 0, 0],\n",
       "       [1, 0, 0],\n",
       "       [1, 0, 0],\n",
       "       [1, 0, 0],\n",
       "       [1, 0, 0],\n",
       "       [1, 0, 0],\n",
       "       [1, 0, 0],\n",
       "       [1, 0, 0],\n",
       "       [1, 0, 0],\n",
       "       [0, 1, 0],\n",
       "       [0, 1, 0],\n",
       "       [0, 1, 0],\n",
       "       [0, 1, 0],\n",
       "       [0, 1, 0],\n",
       "       [0, 1, 0],\n",
       "       [0, 1, 0],\n",
       "       [0, 1, 0],\n",
       "       [0, 1, 0],\n",
       "       [0, 1, 0],\n",
       "       [0, 1, 0],\n",
       "       [0, 1, 0],\n",
       "       [0, 1, 0],\n",
       "       [0, 1, 0],\n",
       "       [0, 1, 0],\n",
       "       [0, 1, 0],\n",
       "       [0, 1, 0],\n",
       "       [0, 1, 0],\n",
       "       [0, 1, 0],\n",
       "       [0, 1, 0],\n",
       "       [0, 1, 0],\n",
       "       [0, 1, 0],\n",
       "       [0, 1, 0],\n",
       "       [0, 1, 0],\n",
       "       [0, 1, 0],\n",
       "       [0, 1, 0],\n",
       "       [0, 1, 0],\n",
       "       [0, 1, 0],\n",
       "       [0, 1, 0],\n",
       "       [0, 1, 0],\n",
       "       [0, 1, 0],\n",
       "       [0, 1, 0],\n",
       "       [0, 1, 0],\n",
       "       [0, 1, 0],\n",
       "       [0, 1, 0],\n",
       "       [0, 1, 0],\n",
       "       [0, 1, 0],\n",
       "       [0, 1, 0],\n",
       "       [0, 1, 0],\n",
       "       [0, 1, 0],\n",
       "       [0, 1, 0],\n",
       "       [0, 1, 0],\n",
       "       [0, 1, 0],\n",
       "       [0, 1, 0],\n",
       "       [0, 1, 0],\n",
       "       [0, 1, 0],\n",
       "       [0, 1, 0],\n",
       "       [0, 1, 0],\n",
       "       [0, 1, 0],\n",
       "       [0, 1, 0],\n",
       "       [0, 0, 1],\n",
       "       [0, 0, 1],\n",
       "       [0, 0, 1],\n",
       "       [0, 0, 1],\n",
       "       [0, 0, 1],\n",
       "       [0, 0, 1],\n",
       "       [0, 0, 1],\n",
       "       [0, 0, 1],\n",
       "       [0, 0, 1],\n",
       "       [0, 0, 1],\n",
       "       [0, 0, 1],\n",
       "       [0, 0, 1],\n",
       "       [0, 0, 1],\n",
       "       [0, 0, 1],\n",
       "       [0, 0, 1],\n",
       "       [0, 0, 1],\n",
       "       [0, 0, 1],\n",
       "       [0, 0, 1],\n",
       "       [0, 0, 1],\n",
       "       [0, 0, 1],\n",
       "       [0, 0, 1],\n",
       "       [0, 0, 1],\n",
       "       [0, 0, 1],\n",
       "       [0, 0, 1],\n",
       "       [0, 0, 1],\n",
       "       [0, 0, 1],\n",
       "       [0, 0, 1],\n",
       "       [0, 0, 1],\n",
       "       [0, 0, 1],\n",
       "       [0, 0, 1],\n",
       "       [0, 0, 1],\n",
       "       [0, 0, 1],\n",
       "       [0, 0, 1],\n",
       "       [0, 0, 1],\n",
       "       [0, 0, 1],\n",
       "       [0, 0, 1],\n",
       "       [0, 0, 1],\n",
       "       [0, 0, 1],\n",
       "       [0, 0, 1],\n",
       "       [0, 0, 1],\n",
       "       [0, 0, 1],\n",
       "       [0, 0, 1],\n",
       "       [0, 0, 1],\n",
       "       [0, 0, 1],\n",
       "       [0, 0, 1],\n",
       "       [0, 0, 1],\n",
       "       [0, 0, 1],\n",
       "       [0, 0, 1],\n",
       "       [0, 0, 1],\n",
       "       [0, 0, 1]])"
      ]
     },
     "execution_count": 14,
     "metadata": {},
     "output_type": "execute_result"
    }
   ],
   "source": [
    "y  # y is now one hot encoded"
   ]
  },
  {
   "cell_type": "code",
   "execution_count": 15,
   "metadata": {},
   "outputs": [],
   "source": [
    "#y is 1 or 0 based on species"
   ]
  },
  {
   "cell_type": "code",
   "execution_count": 16,
   "metadata": {},
   "outputs": [
    {
     "data": {
      "text/plain": [
       "array(['setosa', 'versicolor', 'virginica'], dtype=object)"
      ]
     },
     "execution_count": 16,
     "metadata": {},
     "output_type": "execute_result"
    }
   ],
   "source": [
    "iris['species'].unique()"
   ]
  },
  {
   "cell_type": "code",
   "execution_count": 17,
   "metadata": {},
   "outputs": [],
   "source": [
    "# 1 0 0 in one hot encoded means flower is setosa and 0 1 0 means flower is versicolor "
   ]
  },
  {
   "cell_type": "code",
   "execution_count": 18,
   "metadata": {},
   "outputs": [],
   "source": [
    "from sklearn.model_selection import train_test_split"
   ]
  },
  {
   "cell_type": "code",
   "execution_count": 19,
   "metadata": {},
   "outputs": [],
   "source": [
    "from sklearn.preprocessing import MinMaxScaler"
   ]
  },
  {
   "cell_type": "code",
   "execution_count": 20,
   "metadata": {},
   "outputs": [],
   "source": [
    "X_train, X_test, y_train, y_test = train_test_split(X, y, test_size=0.2, random_state=101)"
   ]
  },
  {
   "cell_type": "code",
   "execution_count": 21,
   "metadata": {},
   "outputs": [],
   "source": [
    "scaler=MinMaxScaler()"
   ]
  },
  {
   "cell_type": "code",
   "execution_count": 22,
   "metadata": {},
   "outputs": [
    {
     "data": {
      "text/plain": [
       "MinMaxScaler(copy=True, feature_range=(0, 1))"
      ]
     },
     "execution_count": 22,
     "metadata": {},
     "output_type": "execute_result"
    }
   ],
   "source": [
    "scaler.fit(X_train)"
   ]
  },
  {
   "cell_type": "code",
   "execution_count": 23,
   "metadata": {},
   "outputs": [],
   "source": [
    "scaled_X_train=scaler.transform(X_train)"
   ]
  },
  {
   "cell_type": "code",
   "execution_count": 24,
   "metadata": {},
   "outputs": [],
   "source": [
    "scaler_X_test=scaler.transform(X_test)"
   ]
  },
  {
   "cell_type": "code",
   "execution_count": 25,
   "metadata": {},
   "outputs": [],
   "source": [
    "from tensorflow.keras.models import Sequential\n",
    "from tensorflow.keras.layers import Dense"
   ]
  },
  {
   "cell_type": "code",
   "execution_count": 26,
   "metadata": {},
   "outputs": [],
   "source": [
    "model=Sequential()\n",
    "model.add(Dense(units=4,activation='relu',input_shape=[4,]))\n",
    "#sinc there are only 4 feature and we are not worry about batches hence input shape is [4,]\n",
    "model.add(Dense(units=3,activation='softmax'))# output belong to three class\n",
    "model.compile(optimizer='adam',loss='categorical_crossentropy',metrics=['accuracy'])#in metrics we specify that we will keep\n",
    "#trac of accuracy"
   ]
  },
  {
   "cell_type": "code",
   "execution_count": 27,
   "metadata": {},
   "outputs": [],
   "source": [
    "from tensorflow.keras.callbacks import EarlyStopping"
   ]
  },
  {
   "cell_type": "code",
   "execution_count": 28,
   "metadata": {},
   "outputs": [],
   "source": [
    "early_stopping=EarlyStopping(patience=10)"
   ]
  },
  {
   "cell_type": "code",
   "execution_count": 29,
   "metadata": {},
   "outputs": [
    {
     "name": "stdout",
     "output_type": "stream",
     "text": [
      "Train on 120 samples, validate on 30 samples\n",
      "Epoch 1/300\n",
      "120/120 [==============================] - 4s 36ms/sample - loss: 1.1839 - accuracy: 0.3500 - val_loss: 1.2260 - val_accuracy: 0.2667\n",
      "Epoch 2/300\n",
      "120/120 [==============================] - 0s 1ms/sample - loss: 1.1805 - accuracy: 0.3500 - val_loss: 1.2229 - val_accuracy: 0.2667\n",
      "Epoch 3/300\n",
      "120/120 [==============================] - 0s 796us/sample - loss: 1.1778 - accuracy: 0.3500 - val_loss: 1.2194 - val_accuracy: 0.2667\n",
      "Epoch 4/300\n",
      "120/120 [==============================] - 0s 445us/sample - loss: 1.1748 - accuracy: 0.3500 - val_loss: 1.2159 - val_accuracy: 0.2667\n",
      "Epoch 5/300\n",
      "120/120 [==============================] - 0s 461us/sample - loss: 1.1718 - accuracy: 0.3500 - val_loss: 1.2128 - val_accuracy: 0.2667\n",
      "Epoch 6/300\n",
      "120/120 [==============================] - 0s 605us/sample - loss: 1.1691 - accuracy: 0.3500 - val_loss: 1.2097 - val_accuracy: 0.2667\n",
      "Epoch 7/300\n",
      "120/120 [==============================] - 0s 421us/sample - loss: 1.1664 - accuracy: 0.3500 - val_loss: 1.2067 - val_accuracy: 0.2667\n",
      "Epoch 8/300\n",
      "120/120 [==============================] - 0s 507us/sample - loss: 1.1638 - accuracy: 0.3500 - val_loss: 1.2037 - val_accuracy: 0.2667\n",
      "Epoch 9/300\n",
      "120/120 [==============================] - 0s 521us/sample - loss: 1.1613 - accuracy: 0.3500 - val_loss: 1.2007 - val_accuracy: 0.2667\n",
      "Epoch 10/300\n",
      "120/120 [==============================] - 0s 901us/sample - loss: 1.1586 - accuracy: 0.3500 - val_loss: 1.1978 - val_accuracy: 0.2667\n",
      "Epoch 11/300\n",
      "120/120 [==============================] - 0s 839us/sample - loss: 1.1562 - accuracy: 0.3500 - val_loss: 1.1951 - val_accuracy: 0.2667\n",
      "Epoch 12/300\n",
      "120/120 [==============================] - 0s 502us/sample - loss: 1.1535 - accuracy: 0.3500 - val_loss: 1.1925 - val_accuracy: 0.2667\n",
      "Epoch 13/300\n",
      "120/120 [==============================] - 0s 425us/sample - loss: 1.1514 - accuracy: 0.3500 - val_loss: 1.1898 - val_accuracy: 0.2667\n",
      "Epoch 14/300\n",
      "120/120 [==============================] - 0s 529us/sample - loss: 1.1489 - accuracy: 0.3500 - val_loss: 1.1872 - val_accuracy: 0.2667\n",
      "Epoch 15/300\n",
      "120/120 [==============================] - 0s 455us/sample - loss: 1.1467 - accuracy: 0.3500 - val_loss: 1.1846 - val_accuracy: 0.2667\n",
      "Epoch 16/300\n",
      "120/120 [==============================] - 0s 455us/sample - loss: 1.1443 - accuracy: 0.3500 - val_loss: 1.1821 - val_accuracy: 0.2667\n",
      "Epoch 17/300\n",
      "120/120 [==============================] - 0s 486us/sample - loss: 1.1419 - accuracy: 0.3500 - val_loss: 1.1799 - val_accuracy: 0.2667\n",
      "Epoch 18/300\n",
      "120/120 [==============================] - 0s 481us/sample - loss: 1.1398 - accuracy: 0.3500 - val_loss: 1.1776 - val_accuracy: 0.2667\n",
      "Epoch 19/300\n",
      "120/120 [==============================] - 0s 458us/sample - loss: 1.1375 - accuracy: 0.3500 - val_loss: 1.1755 - val_accuracy: 0.2667\n",
      "Epoch 20/300\n",
      "120/120 [==============================] - 0s 660us/sample - loss: 1.1352 - accuracy: 0.3500 - val_loss: 1.1733 - val_accuracy: 0.2667\n",
      "Epoch 21/300\n",
      "120/120 [==============================] - 0s 453us/sample - loss: 1.1330 - accuracy: 0.3500 - val_loss: 1.1713 - val_accuracy: 0.2667\n",
      "Epoch 22/300\n",
      "120/120 [==============================] - 0s 483us/sample - loss: 1.1308 - accuracy: 0.3500 - val_loss: 1.1692 - val_accuracy: 0.2667\n",
      "Epoch 23/300\n",
      "120/120 [==============================] - 0s 683us/sample - loss: 1.1285 - accuracy: 0.3500 - val_loss: 1.1672 - val_accuracy: 0.2667\n",
      "Epoch 24/300\n",
      "120/120 [==============================] - 0s 595us/sample - loss: 1.1264 - accuracy: 0.3500 - val_loss: 1.1653 - val_accuracy: 0.2667\n",
      "Epoch 25/300\n",
      "120/120 [==============================] - 0s 543us/sample - loss: 1.1241 - accuracy: 0.3500 - val_loss: 1.1633 - val_accuracy: 0.3000\n",
      "Epoch 26/300\n",
      "120/120 [==============================] - 0s 452us/sample - loss: 1.1219 - accuracy: 0.3500 - val_loss: 1.1612 - val_accuracy: 0.3000\n",
      "Epoch 27/300\n",
      "120/120 [==============================] - 0s 524us/sample - loss: 1.1197 - accuracy: 0.3500 - val_loss: 1.1591 - val_accuracy: 0.3000\n",
      "Epoch 28/300\n",
      "120/120 [==============================] - 0s 485us/sample - loss: 1.1176 - accuracy: 0.3500 - val_loss: 1.1570 - val_accuracy: 0.3000\n",
      "Epoch 29/300\n",
      "120/120 [==============================] - 0s 537us/sample - loss: 1.1153 - accuracy: 0.3500 - val_loss: 1.1549 - val_accuracy: 0.3000\n",
      "Epoch 30/300\n",
      "120/120 [==============================] - 0s 547us/sample - loss: 1.1131 - accuracy: 0.3500 - val_loss: 1.1528 - val_accuracy: 0.3000\n",
      "Epoch 31/300\n",
      "120/120 [==============================] - 0s 734us/sample - loss: 1.1108 - accuracy: 0.3500 - val_loss: 1.1507 - val_accuracy: 0.2667\n",
      "Epoch 32/300\n",
      "120/120 [==============================] - 0s 498us/sample - loss: 1.1086 - accuracy: 0.3500 - val_loss: 1.1487 - val_accuracy: 0.2667\n",
      "Epoch 33/300\n",
      "120/120 [==============================] - 0s 500us/sample - loss: 1.1063 - accuracy: 0.3500 - val_loss: 1.1466 - val_accuracy: 0.2667\n",
      "Epoch 34/300\n",
      "120/120 [==============================] - 0s 507us/sample - loss: 1.1040 - accuracy: 0.3500 - val_loss: 1.1446 - val_accuracy: 0.2667\n",
      "Epoch 35/300\n",
      "120/120 [==============================] - 0s 509us/sample - loss: 1.1017 - accuracy: 0.3500 - val_loss: 1.1426 - val_accuracy: 0.2667\n",
      "Epoch 36/300\n",
      "120/120 [==============================] - 0s 512us/sample - loss: 1.0995 - accuracy: 0.3500 - val_loss: 1.1406 - val_accuracy: 0.2667\n",
      "Epoch 37/300\n",
      "120/120 [==============================] - 0s 549us/sample - loss: 1.0972 - accuracy: 0.3500 - val_loss: 1.1386 - val_accuracy: 0.2667\n",
      "Epoch 38/300\n",
      "120/120 [==============================] - 0s 485us/sample - loss: 1.0948 - accuracy: 0.3500 - val_loss: 1.1365 - val_accuracy: 0.2667\n",
      "Epoch 39/300\n",
      "120/120 [==============================] - 0s 398us/sample - loss: 1.0926 - accuracy: 0.3500 - val_loss: 1.1346 - val_accuracy: 0.2667\n",
      "Epoch 40/300\n",
      "120/120 [==============================] - 0s 446us/sample - loss: 1.0903 - accuracy: 0.3500 - val_loss: 1.1327 - val_accuracy: 0.2667\n",
      "Epoch 41/300\n",
      "120/120 [==============================] - 0s 459us/sample - loss: 1.0879 - accuracy: 0.3500 - val_loss: 1.1306 - val_accuracy: 0.2667\n",
      "Epoch 42/300\n",
      "120/120 [==============================] - 0s 460us/sample - loss: 1.0858 - accuracy: 0.3500 - val_loss: 1.1287 - val_accuracy: 0.2667\n",
      "Epoch 43/300\n",
      "120/120 [==============================] - 0s 468us/sample - loss: 1.0834 - accuracy: 0.3500 - val_loss: 1.1265 - val_accuracy: 0.2667\n",
      "Epoch 44/300\n",
      "120/120 [==============================] - 0s 471us/sample - loss: 1.0810 - accuracy: 0.3500 - val_loss: 1.1245 - val_accuracy: 0.2667\n",
      "Epoch 45/300\n",
      "120/120 [==============================] - 0s 415us/sample - loss: 1.0788 - accuracy: 0.3500 - val_loss: 1.1226 - val_accuracy: 0.2667\n",
      "Epoch 46/300\n",
      "120/120 [==============================] - 0s 440us/sample - loss: 1.0764 - accuracy: 0.3500 - val_loss: 1.1206 - val_accuracy: 0.2667\n",
      "Epoch 47/300\n",
      "120/120 [==============================] - 0s 484us/sample - loss: 1.0741 - accuracy: 0.3500 - val_loss: 1.1186 - val_accuracy: 0.2667\n",
      "Epoch 48/300\n",
      "120/120 [==============================] - 0s 857us/sample - loss: 1.0718 - accuracy: 0.3500 - val_loss: 1.1166 - val_accuracy: 0.2667\n",
      "Epoch 49/300\n",
      "120/120 [==============================] - 0s 611us/sample - loss: 1.0694 - accuracy: 0.3500 - val_loss: 1.1143 - val_accuracy: 0.2667\n",
      "Epoch 50/300\n",
      "120/120 [==============================] - 0s 945us/sample - loss: 1.0670 - accuracy: 0.3583 - val_loss: 1.1120 - val_accuracy: 0.2667\n",
      "Epoch 51/300\n",
      "120/120 [==============================] - 0s 614us/sample - loss: 1.0644 - accuracy: 0.3583 - val_loss: 1.1096 - val_accuracy: 0.2667\n",
      "Epoch 52/300\n",
      "120/120 [==============================] - 0s 813us/sample - loss: 1.0616 - accuracy: 0.3583 - val_loss: 1.1066 - val_accuracy: 0.2667\n",
      "Epoch 53/300\n",
      "120/120 [==============================] - 0s 533us/sample - loss: 1.0586 - accuracy: 0.3583 - val_loss: 1.1036 - val_accuracy: 0.2667\n",
      "Epoch 54/300\n",
      "120/120 [==============================] - 0s 470us/sample - loss: 1.0556 - accuracy: 0.3583 - val_loss: 1.1001 - val_accuracy: 0.2667\n",
      "Epoch 55/300\n",
      "120/120 [==============================] - 0s 504us/sample - loss: 1.0526 - accuracy: 0.3583 - val_loss: 1.0964 - val_accuracy: 0.2667\n",
      "Epoch 56/300\n"
     ]
    },
    {
     "name": "stdout",
     "output_type": "stream",
     "text": [
      "120/120 [==============================] - 0s 456us/sample - loss: 1.0491 - accuracy: 0.3833 - val_loss: 1.0925 - val_accuracy: 0.3000\n",
      "Epoch 57/300\n",
      "120/120 [==============================] - 0s 816us/sample - loss: 1.0455 - accuracy: 0.3833 - val_loss: 1.0886 - val_accuracy: 0.3333\n",
      "Epoch 58/300\n",
      "120/120 [==============================] - 0s 731us/sample - loss: 1.0422 - accuracy: 0.3917 - val_loss: 1.0848 - val_accuracy: 0.4000\n",
      "Epoch 59/300\n",
      "120/120 [==============================] - 0s 556us/sample - loss: 1.0394 - accuracy: 0.3917 - val_loss: 1.0815 - val_accuracy: 0.4000\n",
      "Epoch 60/300\n",
      "120/120 [==============================] - 0s 717us/sample - loss: 1.0366 - accuracy: 0.4083 - val_loss: 1.0787 - val_accuracy: 0.4000\n",
      "Epoch 61/300\n",
      "120/120 [==============================] - 0s 513us/sample - loss: 1.0339 - accuracy: 0.4083 - val_loss: 1.0757 - val_accuracy: 0.4000\n",
      "Epoch 62/300\n",
      "120/120 [==============================] - 0s 738us/sample - loss: 1.0312 - accuracy: 0.4083 - val_loss: 1.0732 - val_accuracy: 0.4000\n",
      "Epoch 63/300\n",
      "120/120 [==============================] - 0s 471us/sample - loss: 1.0285 - accuracy: 0.4167 - val_loss: 1.0704 - val_accuracy: 0.4000\n",
      "Epoch 64/300\n",
      "120/120 [==============================] - 0s 513us/sample - loss: 1.0258 - accuracy: 0.4083 - val_loss: 1.0678 - val_accuracy: 0.4000\n",
      "Epoch 65/300\n",
      "120/120 [==============================] - 0s 585us/sample - loss: 1.0230 - accuracy: 0.4083 - val_loss: 1.0651 - val_accuracy: 0.4000\n",
      "Epoch 66/300\n",
      "120/120 [==============================] - 0s 594us/sample - loss: 1.0202 - accuracy: 0.4083 - val_loss: 1.0624 - val_accuracy: 0.4000\n",
      "Epoch 67/300\n",
      "120/120 [==============================] - 0s 886us/sample - loss: 1.0173 - accuracy: 0.4083 - val_loss: 1.0597 - val_accuracy: 0.4000\n",
      "Epoch 68/300\n",
      "120/120 [==============================] - 0s 816us/sample - loss: 1.0145 - accuracy: 0.4083 - val_loss: 1.0569 - val_accuracy: 0.4000\n",
      "Epoch 69/300\n",
      "120/120 [==============================] - 0s 516us/sample - loss: 1.0118 - accuracy: 0.4083 - val_loss: 1.0544 - val_accuracy: 0.4000\n",
      "Epoch 70/300\n",
      "120/120 [==============================] - 0s 517us/sample - loss: 1.0086 - accuracy: 0.4083 - val_loss: 1.0515 - val_accuracy: 0.4333\n",
      "Epoch 71/300\n",
      "120/120 [==============================] - 0s 947us/sample - loss: 1.0058 - accuracy: 0.4083 - val_loss: 1.0482 - val_accuracy: 0.4333\n",
      "Epoch 72/300\n",
      "120/120 [==============================] - 0s 850us/sample - loss: 1.0028 - accuracy: 0.4083 - val_loss: 1.0455 - val_accuracy: 0.4333\n",
      "Epoch 73/300\n",
      "120/120 [==============================] - 0s 587us/sample - loss: 0.9997 - accuracy: 0.4083 - val_loss: 1.0425 - val_accuracy: 0.4333\n",
      "Epoch 74/300\n",
      "120/120 [==============================] - 0s 888us/sample - loss: 0.9967 - accuracy: 0.4250 - val_loss: 1.0395 - val_accuracy: 0.4333\n",
      "Epoch 75/300\n",
      "120/120 [==============================] - 0s 889us/sample - loss: 0.9937 - accuracy: 0.4333 - val_loss: 1.0367 - val_accuracy: 0.4333\n",
      "Epoch 76/300\n",
      "120/120 [==============================] - 0s 781us/sample - loss: 0.9907 - accuracy: 0.4333 - val_loss: 1.0340 - val_accuracy: 0.4333\n",
      "Epoch 77/300\n",
      "120/120 [==============================] - 0s 708us/sample - loss: 0.9876 - accuracy: 0.4417 - val_loss: 1.0310 - val_accuracy: 0.4333\n",
      "Epoch 78/300\n",
      "120/120 [==============================] - 0s 726us/sample - loss: 0.9845 - accuracy: 0.4583 - val_loss: 1.0282 - val_accuracy: 0.4333\n",
      "Epoch 79/300\n",
      "120/120 [==============================] - 0s 531us/sample - loss: 0.9817 - accuracy: 0.4583 - val_loss: 1.0257 - val_accuracy: 0.4333\n",
      "Epoch 80/300\n",
      "120/120 [==============================] - 0s 837us/sample - loss: 0.9783 - accuracy: 0.4667 - val_loss: 1.0225 - val_accuracy: 0.4333\n",
      "Epoch 81/300\n",
      "120/120 [==============================] - 0s 495us/sample - loss: 0.9752 - accuracy: 0.4667 - val_loss: 1.0194 - val_accuracy: 0.4333\n",
      "Epoch 82/300\n",
      "120/120 [==============================] - 0s 758us/sample - loss: 0.9720 - accuracy: 0.4667 - val_loss: 1.0166 - val_accuracy: 0.4333\n",
      "Epoch 83/300\n",
      "120/120 [==============================] - 0s 502us/sample - loss: 0.9687 - accuracy: 0.4833 - val_loss: 1.0135 - val_accuracy: 0.4333\n",
      "Epoch 84/300\n",
      "120/120 [==============================] - 0s 533us/sample - loss: 0.9655 - accuracy: 0.4833 - val_loss: 1.0103 - val_accuracy: 0.4333\n",
      "Epoch 85/300\n",
      "120/120 [==============================] - 0s 836us/sample - loss: 0.9623 - accuracy: 0.4833 - val_loss: 1.0070 - val_accuracy: 0.4333\n",
      "Epoch 86/300\n",
      "120/120 [==============================] - 0s 572us/sample - loss: 0.9590 - accuracy: 0.4833 - val_loss: 1.0039 - val_accuracy: 0.4333\n",
      "Epoch 87/300\n",
      "120/120 [==============================] - 0s 730us/sample - loss: 0.9557 - accuracy: 0.4833 - val_loss: 1.0007 - val_accuracy: 0.4333\n",
      "Epoch 88/300\n",
      "120/120 [==============================] - 0s 544us/sample - loss: 0.9523 - accuracy: 0.5167 - val_loss: 0.9977 - val_accuracy: 0.4333\n",
      "Epoch 89/300\n",
      "120/120 [==============================] - 0s 518us/sample - loss: 0.9489 - accuracy: 0.5250 - val_loss: 0.9944 - val_accuracy: 0.4333\n",
      "Epoch 90/300\n",
      "120/120 [==============================] - 0s 461us/sample - loss: 0.9455 - accuracy: 0.5333 - val_loss: 0.9911 - val_accuracy: 0.4333\n",
      "Epoch 91/300\n",
      "120/120 [==============================] - 0s 812us/sample - loss: 0.9421 - accuracy: 0.5500 - val_loss: 0.9876 - val_accuracy: 0.4333\n",
      "Epoch 92/300\n",
      "120/120 [==============================] - 0s 525us/sample - loss: 0.9386 - accuracy: 0.5583 - val_loss: 0.9844 - val_accuracy: 0.4667\n",
      "Epoch 93/300\n",
      "120/120 [==============================] - 0s 461us/sample - loss: 0.9351 - accuracy: 0.5583 - val_loss: 0.9814 - val_accuracy: 0.4667\n",
      "Epoch 94/300\n",
      "120/120 [==============================] - 0s 489us/sample - loss: 0.9317 - accuracy: 0.5667 - val_loss: 0.9782 - val_accuracy: 0.4667\n",
      "Epoch 95/300\n",
      "120/120 [==============================] - 0s 412us/sample - loss: 0.9282 - accuracy: 0.5667 - val_loss: 0.9751 - val_accuracy: 0.4667\n",
      "Epoch 96/300\n",
      "120/120 [==============================] - 0s 475us/sample - loss: 0.9249 - accuracy: 0.5833 - val_loss: 0.9724 - val_accuracy: 0.4667\n",
      "Epoch 97/300\n",
      "120/120 [==============================] - 0s 503us/sample - loss: 0.9212 - accuracy: 0.6083 - val_loss: 0.9692 - val_accuracy: 0.4667\n",
      "Epoch 98/300\n",
      "120/120 [==============================] - 0s 677us/sample - loss: 0.9177 - accuracy: 0.6167 - val_loss: 0.9659 - val_accuracy: 0.5000\n",
      "Epoch 99/300\n",
      "120/120 [==============================] - 0s 530us/sample - loss: 0.9141 - accuracy: 0.6333 - val_loss: 0.9625 - val_accuracy: 0.5000\n",
      "Epoch 100/300\n",
      "120/120 [==============================] - 0s 407us/sample - loss: 0.9106 - accuracy: 0.6417 - val_loss: 0.9590 - val_accuracy: 0.5000\n",
      "Epoch 101/300\n",
      "120/120 [==============================] - 0s 692us/sample - loss: 0.9072 - accuracy: 0.6583 - val_loss: 0.9558 - val_accuracy: 0.5000\n",
      "Epoch 102/300\n",
      "120/120 [==============================] - 0s 530us/sample - loss: 0.9035 - accuracy: 0.6750 - val_loss: 0.9520 - val_accuracy: 0.5333\n",
      "Epoch 103/300\n",
      "120/120 [==============================] - 0s 548us/sample - loss: 0.9002 - accuracy: 0.6750 - val_loss: 0.9480 - val_accuracy: 0.5667\n",
      "Epoch 104/300\n",
      "120/120 [==============================] - 0s 684us/sample - loss: 0.8963 - accuracy: 0.6750 - val_loss: 0.9446 - val_accuracy: 0.5667\n",
      "Epoch 105/300\n",
      "120/120 [==============================] - 0s 494us/sample - loss: 0.8929 - accuracy: 0.7000 - val_loss: 0.9415 - val_accuracy: 0.6000\n",
      "Epoch 106/300\n",
      "120/120 [==============================] - 0s 458us/sample - loss: 0.8892 - accuracy: 0.7083 - val_loss: 0.9381 - val_accuracy: 0.6000\n",
      "Epoch 107/300\n",
      "120/120 [==============================] - 0s 472us/sample - loss: 0.8858 - accuracy: 0.7083 - val_loss: 0.9349 - val_accuracy: 0.6000\n",
      "Epoch 108/300\n",
      "120/120 [==============================] - 0s 467us/sample - loss: 0.8822 - accuracy: 0.7167 - val_loss: 0.9313 - val_accuracy: 0.6000\n",
      "Epoch 109/300\n",
      "120/120 [==============================] - 0s 454us/sample - loss: 0.8786 - accuracy: 0.7250 - val_loss: 0.9279 - val_accuracy: 0.6000\n",
      "Epoch 110/300\n",
      "120/120 [==============================] - 0s 565us/sample - loss: 0.8750 - accuracy: 0.7250 - val_loss: 0.9245 - val_accuracy: 0.6333\n",
      "Epoch 111/300\n"
     ]
    },
    {
     "name": "stdout",
     "output_type": "stream",
     "text": [
      "120/120 [==============================] - 0s 836us/sample - loss: 0.8715 - accuracy: 0.7333 - val_loss: 0.9210 - val_accuracy: 0.6333\n",
      "Epoch 112/300\n",
      "120/120 [==============================] - 0s 585us/sample - loss: 0.8679 - accuracy: 0.7417 - val_loss: 0.9175 - val_accuracy: 0.6667\n",
      "Epoch 113/300\n",
      "120/120 [==============================] - 0s 584us/sample - loss: 0.8645 - accuracy: 0.7417 - val_loss: 0.9140 - val_accuracy: 0.7000\n",
      "Epoch 114/300\n",
      "120/120 [==============================] - 0s 849us/sample - loss: 0.8609 - accuracy: 0.7417 - val_loss: 0.9105 - val_accuracy: 0.7000\n",
      "Epoch 115/300\n",
      "120/120 [==============================] - 0s 865us/sample - loss: 0.8574 - accuracy: 0.7417 - val_loss: 0.9070 - val_accuracy: 0.7000\n",
      "Epoch 116/300\n",
      "120/120 [==============================] - 0s 762us/sample - loss: 0.8539 - accuracy: 0.7500 - val_loss: 0.9042 - val_accuracy: 0.7000\n",
      "Epoch 117/300\n",
      "120/120 [==============================] - 0s 542us/sample - loss: 0.8504 - accuracy: 0.7583 - val_loss: 0.9010 - val_accuracy: 0.7000\n",
      "Epoch 118/300\n",
      "120/120 [==============================] - 0s 556us/sample - loss: 0.8469 - accuracy: 0.7583 - val_loss: 0.8974 - val_accuracy: 0.7000\n",
      "Epoch 119/300\n",
      "120/120 [==============================] - 0s 786us/sample - loss: 0.8434 - accuracy: 0.7583 - val_loss: 0.8940 - val_accuracy: 0.7000\n",
      "Epoch 120/300\n",
      "120/120 [==============================] - 0s 485us/sample - loss: 0.8399 - accuracy: 0.7583 - val_loss: 0.8905 - val_accuracy: 0.7000\n",
      "Epoch 121/300\n",
      "120/120 [==============================] - 0s 483us/sample - loss: 0.8365 - accuracy: 0.7583 - val_loss: 0.8868 - val_accuracy: 0.7000\n",
      "Epoch 122/300\n",
      "120/120 [==============================] - 0s 471us/sample - loss: 0.8330 - accuracy: 0.7583 - val_loss: 0.8834 - val_accuracy: 0.7000\n",
      "Epoch 123/300\n",
      "120/120 [==============================] - 0s 484us/sample - loss: 0.8297 - accuracy: 0.7583 - val_loss: 0.8800 - val_accuracy: 0.7333\n",
      "Epoch 124/300\n",
      "120/120 [==============================] - 0s 472us/sample - loss: 0.8263 - accuracy: 0.7583 - val_loss: 0.8769 - val_accuracy: 0.7333\n",
      "Epoch 125/300\n",
      "120/120 [==============================] - 0s 448us/sample - loss: 0.8229 - accuracy: 0.7583 - val_loss: 0.8736 - val_accuracy: 0.7333\n",
      "Epoch 126/300\n",
      "120/120 [==============================] - 0s 442us/sample - loss: 0.8195 - accuracy: 0.7667 - val_loss: 0.8707 - val_accuracy: 0.7333\n",
      "Epoch 127/300\n",
      "120/120 [==============================] - 0s 527us/sample - loss: 0.8162 - accuracy: 0.7667 - val_loss: 0.8677 - val_accuracy: 0.7333\n",
      "Epoch 128/300\n",
      "120/120 [==============================] - 0s 494us/sample - loss: 0.8128 - accuracy: 0.7667 - val_loss: 0.8646 - val_accuracy: 0.7333\n",
      "Epoch 129/300\n",
      "120/120 [==============================] - 0s 869us/sample - loss: 0.8095 - accuracy: 0.7667 - val_loss: 0.8614 - val_accuracy: 0.7333\n",
      "Epoch 130/300\n",
      "120/120 [==============================] - 0s 867us/sample - loss: 0.8063 - accuracy: 0.7667 - val_loss: 0.8579 - val_accuracy: 0.7333\n",
      "Epoch 131/300\n",
      "120/120 [==============================] - 0s 570us/sample - loss: 0.8032 - accuracy: 0.7667 - val_loss: 0.8544 - val_accuracy: 0.7333\n",
      "Epoch 132/300\n",
      "120/120 [==============================] - 0s 872us/sample - loss: 0.7998 - accuracy: 0.7667 - val_loss: 0.8516 - val_accuracy: 0.7333\n",
      "Epoch 133/300\n",
      "120/120 [==============================] - 0s 788us/sample - loss: 0.7965 - accuracy: 0.7750 - val_loss: 0.8487 - val_accuracy: 0.7333\n",
      "Epoch 134/300\n",
      "120/120 [==============================] - 0s 611us/sample - loss: 0.7934 - accuracy: 0.7750 - val_loss: 0.8458 - val_accuracy: 0.7333\n",
      "Epoch 135/300\n",
      "120/120 [==============================] - 0s 810us/sample - loss: 0.7902 - accuracy: 0.7750 - val_loss: 0.8426 - val_accuracy: 0.7333\n",
      "Epoch 136/300\n",
      "120/120 [==============================] - 0s 519us/sample - loss: 0.7870 - accuracy: 0.7750 - val_loss: 0.8392 - val_accuracy: 0.7333\n",
      "Epoch 137/300\n",
      "120/120 [==============================] - 0s 504us/sample - loss: 0.7839 - accuracy: 0.7750 - val_loss: 0.8360 - val_accuracy: 0.7333\n",
      "Epoch 138/300\n",
      "120/120 [==============================] - 0s 923us/sample - loss: 0.7807 - accuracy: 0.7833 - val_loss: 0.8330 - val_accuracy: 0.7333\n",
      "Epoch 139/300\n",
      "120/120 [==============================] - 0s 596us/sample - loss: 0.7777 - accuracy: 0.7833 - val_loss: 0.8297 - val_accuracy: 0.7333\n",
      "Epoch 140/300\n",
      "120/120 [==============================] - 0s 533us/sample - loss: 0.7746 - accuracy: 0.7833 - val_loss: 0.8266 - val_accuracy: 0.7333\n",
      "Epoch 141/300\n",
      "120/120 [==============================] - 0s 557us/sample - loss: 0.7715 - accuracy: 0.7833 - val_loss: 0.8236 - val_accuracy: 0.7333\n",
      "Epoch 142/300\n",
      "120/120 [==============================] - 0s 621us/sample - loss: 0.7684 - accuracy: 0.7833 - val_loss: 0.8208 - val_accuracy: 0.7333\n",
      "Epoch 143/300\n",
      "120/120 [==============================] - 0s 553us/sample - loss: 0.7654 - accuracy: 0.7917 - val_loss: 0.8179 - val_accuracy: 0.7333\n",
      "Epoch 144/300\n",
      "120/120 [==============================] - 0s 555us/sample - loss: 0.7624 - accuracy: 0.7917 - val_loss: 0.8147 - val_accuracy: 0.7333\n",
      "Epoch 145/300\n",
      "120/120 [==============================] - 0s 901us/sample - loss: 0.7595 - accuracy: 0.7917 - val_loss: 0.8119 - val_accuracy: 0.7333\n",
      "Epoch 146/300\n",
      "120/120 [==============================] - 0s 579us/sample - loss: 0.7565 - accuracy: 0.7917 - val_loss: 0.8090 - val_accuracy: 0.7667\n",
      "Epoch 147/300\n",
      "120/120 [==============================] - 0s 892us/sample - loss: 0.7535 - accuracy: 0.7917 - val_loss: 0.8062 - val_accuracy: 0.7667\n",
      "Epoch 148/300\n",
      "120/120 [==============================] - 0s 829us/sample - loss: 0.7508 - accuracy: 0.7917 - val_loss: 0.8037 - val_accuracy: 0.7667\n",
      "Epoch 149/300\n",
      "120/120 [==============================] - 0s 503us/sample - loss: 0.7477 - accuracy: 0.7917 - val_loss: 0.8007 - val_accuracy: 0.7667\n",
      "Epoch 150/300\n",
      "120/120 [==============================] - 0s 865us/sample - loss: 0.7448 - accuracy: 0.7917 - val_loss: 0.7977 - val_accuracy: 0.7667\n",
      "Epoch 151/300\n",
      "120/120 [==============================] - 0s 879us/sample - loss: 0.7420 - accuracy: 0.7917 - val_loss: 0.7947 - val_accuracy: 0.7667\n",
      "Epoch 152/300\n",
      "120/120 [==============================] - 0s 832us/sample - loss: 0.7391 - accuracy: 0.7917 - val_loss: 0.7916 - val_accuracy: 0.7667\n",
      "Epoch 153/300\n",
      "120/120 [==============================] - 0s 763us/sample - loss: 0.7366 - accuracy: 0.7917 - val_loss: 0.7882 - val_accuracy: 0.7667\n",
      "Epoch 154/300\n",
      "120/120 [==============================] - 0s 481us/sample - loss: 0.7337 - accuracy: 0.7917 - val_loss: 0.7854 - val_accuracy: 0.7667\n",
      "Epoch 155/300\n",
      "120/120 [==============================] - 0s 459us/sample - loss: 0.7307 - accuracy: 0.7917 - val_loss: 0.7825 - val_accuracy: 0.7667\n",
      "Epoch 156/300\n",
      "120/120 [==============================] - 0s 921us/sample - loss: 0.7280 - accuracy: 0.7917 - val_loss: 0.7796 - val_accuracy: 0.7667\n",
      "Epoch 157/300\n",
      "120/120 [==============================] - 0s 921us/sample - loss: 0.7252 - accuracy: 0.8000 - val_loss: 0.7766 - val_accuracy: 0.7667\n",
      "Epoch 158/300\n",
      "120/120 [==============================] - 0s 742us/sample - loss: 0.7225 - accuracy: 0.8000 - val_loss: 0.7739 - val_accuracy: 0.7667\n",
      "Epoch 159/300\n",
      "120/120 [==============================] - 0s 608us/sample - loss: 0.7199 - accuracy: 0.8083 - val_loss: 0.7713 - val_accuracy: 0.7667\n",
      "Epoch 160/300\n",
      "120/120 [==============================] - 0s 533us/sample - loss: 0.7171 - accuracy: 0.8083 - val_loss: 0.7686 - val_accuracy: 0.8000\n",
      "Epoch 161/300\n",
      "120/120 [==============================] - 0s 503us/sample - loss: 0.7145 - accuracy: 0.8083 - val_loss: 0.7658 - val_accuracy: 0.8000\n",
      "Epoch 162/300\n",
      "120/120 [==============================] - 0s 463us/sample - loss: 0.7119 - accuracy: 0.8083 - val_loss: 0.7634 - val_accuracy: 0.8000\n",
      "Epoch 163/300\n",
      "120/120 [==============================] - 0s 604us/sample - loss: 0.7093 - accuracy: 0.8083 - val_loss: 0.7611 - val_accuracy: 0.8000\n",
      "Epoch 164/300\n",
      "120/120 [==============================] - 0s 547us/sample - loss: 0.7067 - accuracy: 0.8083 - val_loss: 0.7587 - val_accuracy: 0.8000\n",
      "Epoch 165/300\n",
      "120/120 [==============================] - 0s 464us/sample - loss: 0.7042 - accuracy: 0.8083 - val_loss: 0.7562 - val_accuracy: 0.8000\n",
      "Epoch 166/300\n"
     ]
    },
    {
     "name": "stdout",
     "output_type": "stream",
     "text": [
      "120/120 [==============================] - 0s 433us/sample - loss: 0.7017 - accuracy: 0.8083 - val_loss: 0.7539 - val_accuracy: 0.8000\n",
      "Epoch 167/300\n",
      "120/120 [==============================] - 0s 680us/sample - loss: 0.6993 - accuracy: 0.8000 - val_loss: 0.7514 - val_accuracy: 0.8000\n",
      "Epoch 168/300\n",
      "120/120 [==============================] - 0s 459us/sample - loss: 0.6969 - accuracy: 0.8000 - val_loss: 0.7494 - val_accuracy: 0.7667\n",
      "Epoch 169/300\n",
      "120/120 [==============================] - 0s 785us/sample - loss: 0.6944 - accuracy: 0.8000 - val_loss: 0.7471 - val_accuracy: 0.7667\n",
      "Epoch 170/300\n",
      "120/120 [==============================] - 0s 793us/sample - loss: 0.6920 - accuracy: 0.7917 - val_loss: 0.7450 - val_accuracy: 0.7667\n",
      "Epoch 171/300\n",
      "120/120 [==============================] - 0s 554us/sample - loss: 0.6895 - accuracy: 0.7917 - val_loss: 0.7425 - val_accuracy: 0.7667\n",
      "Epoch 172/300\n",
      "120/120 [==============================] - 0s 517us/sample - loss: 0.6871 - accuracy: 0.8000 - val_loss: 0.7401 - val_accuracy: 0.7667\n",
      "Epoch 173/300\n",
      "120/120 [==============================] - 0s 727us/sample - loss: 0.6848 - accuracy: 0.8000 - val_loss: 0.7375 - val_accuracy: 0.8000\n",
      "Epoch 174/300\n",
      "120/120 [==============================] - 0s 538us/sample - loss: 0.6825 - accuracy: 0.8000 - val_loss: 0.7351 - val_accuracy: 0.8000\n",
      "Epoch 175/300\n",
      "120/120 [==============================] - 0s 542us/sample - loss: 0.6801 - accuracy: 0.8083 - val_loss: 0.7326 - val_accuracy: 0.8000\n",
      "Epoch 176/300\n",
      "120/120 [==============================] - 0s 799us/sample - loss: 0.6778 - accuracy: 0.8083 - val_loss: 0.7300 - val_accuracy: 0.8000\n",
      "Epoch 177/300\n",
      "120/120 [==============================] - ETA: 0s - loss: 0.7168 - accuracy: 0.78 - 0s 589us/sample - loss: 0.6756 - accuracy: 0.8083 - val_loss: 0.7274 - val_accuracy: 0.8000\n",
      "Epoch 178/300\n",
      "120/120 [==============================] - 0s 866us/sample - loss: 0.6732 - accuracy: 0.8083 - val_loss: 0.7251 - val_accuracy: 0.8000\n",
      "Epoch 179/300\n",
      "120/120 [==============================] - 0s 498us/sample - loss: 0.6709 - accuracy: 0.8083 - val_loss: 0.7229 - val_accuracy: 0.8000\n",
      "Epoch 180/300\n",
      "120/120 [==============================] - 0s 792us/sample - loss: 0.6687 - accuracy: 0.8083 - val_loss: 0.7206 - val_accuracy: 0.8000\n",
      "Epoch 181/300\n",
      "120/120 [==============================] - 0s 498us/sample - loss: 0.6664 - accuracy: 0.8083 - val_loss: 0.7186 - val_accuracy: 0.8000\n",
      "Epoch 182/300\n",
      "120/120 [==============================] - 0s 503us/sample - loss: 0.6645 - accuracy: 0.8083 - val_loss: 0.7168 - val_accuracy: 0.8000\n",
      "Epoch 183/300\n",
      "120/120 [==============================] - 0s 492us/sample - loss: 0.6621 - accuracy: 0.8083 - val_loss: 0.7144 - val_accuracy: 0.8000\n",
      "Epoch 184/300\n",
      "120/120 [==============================] - 0s 447us/sample - loss: 0.6599 - accuracy: 0.8083 - val_loss: 0.7121 - val_accuracy: 0.8000\n",
      "Epoch 185/300\n",
      "120/120 [==============================] - 0s 520us/sample - loss: 0.6578 - accuracy: 0.8083 - val_loss: 0.7097 - val_accuracy: 0.8000\n",
      "Epoch 186/300\n",
      "120/120 [==============================] - 0s 468us/sample - loss: 0.6556 - accuracy: 0.8083 - val_loss: 0.7076 - val_accuracy: 0.8000\n",
      "Epoch 187/300\n",
      "120/120 [==============================] - 0s 482us/sample - loss: 0.6536 - accuracy: 0.8083 - val_loss: 0.7055 - val_accuracy: 0.8000\n",
      "Epoch 188/300\n",
      "120/120 [==============================] - 0s 428us/sample - loss: 0.6514 - accuracy: 0.8083 - val_loss: 0.7033 - val_accuracy: 0.8000\n",
      "Epoch 189/300\n",
      "120/120 [==============================] - 0s 502us/sample - loss: 0.6494 - accuracy: 0.8083 - val_loss: 0.7012 - val_accuracy: 0.8000\n",
      "Epoch 190/300\n",
      "120/120 [==============================] - 0s 495us/sample - loss: 0.6475 - accuracy: 0.8167 - val_loss: 0.6987 - val_accuracy: 0.8000\n",
      "Epoch 191/300\n",
      "120/120 [==============================] - 0s 507us/sample - loss: 0.6453 - accuracy: 0.8167 - val_loss: 0.6967 - val_accuracy: 0.8000\n",
      "Epoch 192/300\n",
      "120/120 [==============================] - 0s 416us/sample - loss: 0.6433 - accuracy: 0.8167 - val_loss: 0.6949 - val_accuracy: 0.8000\n",
      "Epoch 193/300\n",
      "120/120 [==============================] - 0s 469us/sample - loss: 0.6413 - accuracy: 0.8167 - val_loss: 0.6927 - val_accuracy: 0.8000\n",
      "Epoch 194/300\n",
      "120/120 [==============================] - 0s 718us/sample - loss: 0.6394 - accuracy: 0.8167 - val_loss: 0.6905 - val_accuracy: 0.8000\n",
      "Epoch 195/300\n",
      "120/120 [==============================] - 0s 479us/sample - loss: 0.6374 - accuracy: 0.8250 - val_loss: 0.6880 - val_accuracy: 0.8000\n",
      "Epoch 196/300\n",
      "120/120 [==============================] - 0s 517us/sample - loss: 0.6356 - accuracy: 0.8250 - val_loss: 0.6856 - val_accuracy: 0.8333\n",
      "Epoch 197/300\n",
      "120/120 [==============================] - 0s 521us/sample - loss: 0.6334 - accuracy: 0.8250 - val_loss: 0.6837 - val_accuracy: 0.8333\n",
      "Epoch 198/300\n",
      "120/120 [==============================] - 0s 731us/sample - loss: 0.6316 - accuracy: 0.8250 - val_loss: 0.6820 - val_accuracy: 0.8000\n",
      "Epoch 199/300\n",
      "120/120 [==============================] - 0s 513us/sample - loss: 0.6296 - accuracy: 0.8250 - val_loss: 0.6800 - val_accuracy: 0.8333\n",
      "Epoch 200/300\n",
      "120/120 [==============================] - 0s 804us/sample - loss: 0.6277 - accuracy: 0.8250 - val_loss: 0.6781 - val_accuracy: 0.8333\n",
      "Epoch 201/300\n",
      "120/120 [==============================] - 0s 525us/sample - loss: 0.6258 - accuracy: 0.8250 - val_loss: 0.6763 - val_accuracy: 0.8333\n",
      "Epoch 202/300\n",
      "120/120 [==============================] - 0s 484us/sample - loss: 0.6240 - accuracy: 0.8250 - val_loss: 0.6745 - val_accuracy: 0.8333\n",
      "Epoch 203/300\n",
      "120/120 [==============================] - 0s 704us/sample - loss: 0.6221 - accuracy: 0.8250 - val_loss: 0.6726 - val_accuracy: 0.8333\n",
      "Epoch 204/300\n",
      "120/120 [==============================] - 0s 431us/sample - loss: 0.6203 - accuracy: 0.8250 - val_loss: 0.6708 - val_accuracy: 0.8333\n",
      "Epoch 205/300\n",
      "120/120 [==============================] - 0s 508us/sample - loss: 0.6184 - accuracy: 0.8333 - val_loss: 0.6688 - val_accuracy: 0.8333\n",
      "Epoch 206/300\n",
      "120/120 [==============================] - 0s 695us/sample - loss: 0.6166 - accuracy: 0.8333 - val_loss: 0.6670 - val_accuracy: 0.8333\n",
      "Epoch 207/300\n",
      "120/120 [==============================] - 0s 958us/sample - loss: 0.6148 - accuracy: 0.8333 - val_loss: 0.6651 - val_accuracy: 0.8333\n",
      "Epoch 208/300\n",
      "120/120 [==============================] - 0s 933us/sample - loss: 0.6130 - accuracy: 0.8333 - val_loss: 0.6632 - val_accuracy: 0.8333\n",
      "Epoch 209/300\n",
      "120/120 [==============================] - 0s 613us/sample - loss: 0.6112 - accuracy: 0.8333 - val_loss: 0.6609 - val_accuracy: 0.8333\n",
      "Epoch 210/300\n",
      "120/120 [==============================] - 0s 568us/sample - loss: 0.6094 - accuracy: 0.8333 - val_loss: 0.6589 - val_accuracy: 0.8333\n",
      "Epoch 211/300\n",
      "120/120 [==============================] - 0s 787us/sample - loss: 0.6076 - accuracy: 0.8333 - val_loss: 0.6571 - val_accuracy: 0.8333\n",
      "Epoch 212/300\n",
      "120/120 [==============================] - 0s 840us/sample - loss: 0.6058 - accuracy: 0.8333 - val_loss: 0.6554 - val_accuracy: 0.8333\n",
      "Epoch 213/300\n",
      "120/120 [==============================] - 0s 756us/sample - loss: 0.6042 - accuracy: 0.8333 - val_loss: 0.6539 - val_accuracy: 0.8333\n",
      "Epoch 214/300\n",
      "120/120 [==============================] - 0s 534us/sample - loss: 0.6024 - accuracy: 0.8333 - val_loss: 0.6522 - val_accuracy: 0.8333\n",
      "Epoch 215/300\n",
      "120/120 [==============================] - 0s 852us/sample - loss: 0.6006 - accuracy: 0.8333 - val_loss: 0.6503 - val_accuracy: 0.8333\n",
      "Epoch 216/300\n",
      "120/120 [==============================] - 0s 844us/sample - loss: 0.5990 - accuracy: 0.8333 - val_loss: 0.6484 - val_accuracy: 0.8333\n",
      "Epoch 217/300\n",
      "120/120 [==============================] - 0s 517us/sample - loss: 0.5973 - accuracy: 0.8333 - val_loss: 0.6467 - val_accuracy: 0.8667\n",
      "Epoch 218/300\n",
      "120/120 [==============================] - 0s 529us/sample - loss: 0.5956 - accuracy: 0.8333 - val_loss: 0.6448 - val_accuracy: 0.8667\n",
      "Epoch 219/300\n",
      "120/120 [==============================] - 0s 422us/sample - loss: 0.5939 - accuracy: 0.8333 - val_loss: 0.6431 - val_accuracy: 0.8667\n",
      "Epoch 220/300\n",
      "120/120 [==============================] - 0s 767us/sample - loss: 0.5923 - accuracy: 0.8333 - val_loss: 0.6416 - val_accuracy: 0.8667\n"
     ]
    },
    {
     "name": "stdout",
     "output_type": "stream",
     "text": [
      "Epoch 221/300\n",
      "120/120 [==============================] - 0s 446us/sample - loss: 0.5907 - accuracy: 0.8333 - val_loss: 0.6398 - val_accuracy: 0.8667\n",
      "Epoch 222/300\n",
      "120/120 [==============================] - 0s 566us/sample - loss: 0.5890 - accuracy: 0.8333 - val_loss: 0.6383 - val_accuracy: 0.8667\n",
      "Epoch 223/300\n",
      "120/120 [==============================] - 0s 785us/sample - loss: 0.5874 - accuracy: 0.8333 - val_loss: 0.6368 - val_accuracy: 0.8667\n",
      "Epoch 224/300\n",
      "120/120 [==============================] - 0s 589us/sample - loss: 0.5858 - accuracy: 0.8333 - val_loss: 0.6354 - val_accuracy: 0.8667\n",
      "Epoch 225/300\n",
      "120/120 [==============================] - 0s 702us/sample - loss: 0.5842 - accuracy: 0.8333 - val_loss: 0.6338 - val_accuracy: 0.8667\n",
      "Epoch 226/300\n",
      "120/120 [==============================] - 0s 493us/sample - loss: 0.5828 - accuracy: 0.8333 - val_loss: 0.6325 - val_accuracy: 0.8667\n",
      "Epoch 227/300\n",
      "120/120 [==============================] - ETA: 0s - loss: 0.5822 - accuracy: 0.78 - 0s 869us/sample - loss: 0.5810 - accuracy: 0.8333 - val_loss: 0.6308 - val_accuracy: 0.8667\n",
      "Epoch 228/300\n",
      "120/120 [==============================] - 0s 885us/sample - loss: 0.5794 - accuracy: 0.8333 - val_loss: 0.6290 - val_accuracy: 0.8667\n",
      "Epoch 229/300\n",
      "120/120 [==============================] - 0s 510us/sample - loss: 0.5778 - accuracy: 0.8333 - val_loss: 0.6274 - val_accuracy: 0.8667\n",
      "Epoch 230/300\n",
      "120/120 [==============================] - 0s 480us/sample - loss: 0.5765 - accuracy: 0.8333 - val_loss: 0.6256 - val_accuracy: 0.9000\n",
      "Epoch 231/300\n",
      "120/120 [==============================] - 0s 475us/sample - loss: 0.5748 - accuracy: 0.8333 - val_loss: 0.6240 - val_accuracy: 0.9000\n",
      "Epoch 232/300\n",
      "120/120 [==============================] - 0s 456us/sample - loss: 0.5732 - accuracy: 0.8333 - val_loss: 0.6225 - val_accuracy: 0.9000\n",
      "Epoch 233/300\n",
      "120/120 [==============================] - 0s 403us/sample - loss: 0.5716 - accuracy: 0.8333 - val_loss: 0.6210 - val_accuracy: 0.8667\n",
      "Epoch 234/300\n",
      "120/120 [==============================] - 0s 462us/sample - loss: 0.5701 - accuracy: 0.8333 - val_loss: 0.6195 - val_accuracy: 0.8667\n",
      "Epoch 235/300\n",
      "120/120 [==============================] - 0s 489us/sample - loss: 0.5686 - accuracy: 0.8333 - val_loss: 0.6179 - val_accuracy: 0.8667\n",
      "Epoch 236/300\n",
      "120/120 [==============================] - 0s 734us/sample - loss: 0.5672 - accuracy: 0.8333 - val_loss: 0.6166 - val_accuracy: 0.9000\n",
      "Epoch 237/300\n",
      "120/120 [==============================] - 0s 536us/sample - loss: 0.5656 - accuracy: 0.8333 - val_loss: 0.6149 - val_accuracy: 0.8667\n",
      "Epoch 238/300\n",
      "120/120 [==============================] - 0s 489us/sample - loss: 0.5642 - accuracy: 0.8333 - val_loss: 0.6133 - val_accuracy: 0.8667\n",
      "Epoch 239/300\n",
      "120/120 [==============================] - 0s 772us/sample - loss: 0.5628 - accuracy: 0.8333 - val_loss: 0.6117 - val_accuracy: 0.9000\n",
      "Epoch 240/300\n",
      "120/120 [==============================] - 0s 653us/sample - loss: 0.5612 - accuracy: 0.8333 - val_loss: 0.6105 - val_accuracy: 0.8667\n",
      "Epoch 241/300\n",
      "120/120 [==============================] - 0s 881us/sample - loss: 0.5599 - accuracy: 0.8333 - val_loss: 0.6093 - val_accuracy: 0.8667\n",
      "Epoch 242/300\n",
      "120/120 [==============================] - 0s 826us/sample - loss: 0.5583 - accuracy: 0.8333 - val_loss: 0.6077 - val_accuracy: 0.8667\n",
      "Epoch 243/300\n",
      "120/120 [==============================] - 0s 506us/sample - loss: 0.5568 - accuracy: 0.8333 - val_loss: 0.6062 - val_accuracy: 0.8667\n",
      "Epoch 244/300\n",
      "120/120 [==============================] - 0s 460us/sample - loss: 0.5554 - accuracy: 0.8333 - val_loss: 0.6047 - val_accuracy: 0.8667\n",
      "Epoch 245/300\n",
      "120/120 [==============================] - 0s 522us/sample - loss: 0.5540 - accuracy: 0.8333 - val_loss: 0.6030 - val_accuracy: 0.9000\n",
      "Epoch 246/300\n",
      "120/120 [==============================] - 0s 636us/sample - loss: 0.5526 - accuracy: 0.8333 - val_loss: 0.6015 - val_accuracy: 0.9000\n",
      "Epoch 247/300\n",
      "120/120 [==============================] - 0s 777us/sample - loss: 0.5510 - accuracy: 0.8333 - val_loss: 0.6001 - val_accuracy: 0.9000\n",
      "Epoch 248/300\n",
      "120/120 [==============================] - 0s 535us/sample - loss: 0.5496 - accuracy: 0.8333 - val_loss: 0.5986 - val_accuracy: 0.9000\n",
      "Epoch 249/300\n",
      "120/120 [==============================] - 0s 508us/sample - loss: 0.5484 - accuracy: 0.8333 - val_loss: 0.5969 - val_accuracy: 0.9000\n",
      "Epoch 250/300\n",
      "120/120 [==============================] - 0s 538us/sample - loss: 0.5469 - accuracy: 0.8333 - val_loss: 0.5954 - val_accuracy: 0.9000\n",
      "Epoch 251/300\n",
      "120/120 [==============================] - 0s 743us/sample - loss: 0.5455 - accuracy: 0.8333 - val_loss: 0.5942 - val_accuracy: 0.9000\n",
      "Epoch 252/300\n",
      "120/120 [==============================] - 0s 605us/sample - loss: 0.5440 - accuracy: 0.8333 - val_loss: 0.5928 - val_accuracy: 0.9000\n",
      "Epoch 253/300\n",
      "120/120 [==============================] - 0s 864us/sample - loss: 0.5427 - accuracy: 0.8333 - val_loss: 0.5915 - val_accuracy: 0.9000\n",
      "Epoch 254/300\n",
      "120/120 [==============================] - 0s 870us/sample - loss: 0.5414 - accuracy: 0.8333 - val_loss: 0.5902 - val_accuracy: 0.9000\n",
      "Epoch 255/300\n",
      "120/120 [==============================] - 0s 617us/sample - loss: 0.5401 - accuracy: 0.8333 - val_loss: 0.5892 - val_accuracy: 0.9000\n",
      "Epoch 256/300\n",
      "120/120 [==============================] - 0s 492us/sample - loss: 0.5388 - accuracy: 0.8333 - val_loss: 0.5877 - val_accuracy: 0.9000\n",
      "Epoch 257/300\n",
      "120/120 [==============================] - 0s 456us/sample - loss: 0.5373 - accuracy: 0.8333 - val_loss: 0.5861 - val_accuracy: 0.9000\n",
      "Epoch 258/300\n",
      "120/120 [==============================] - 0s 650us/sample - loss: 0.5360 - accuracy: 0.8333 - val_loss: 0.5847 - val_accuracy: 0.9000\n",
      "Epoch 259/300\n",
      "120/120 [==============================] - 0s 447us/sample - loss: 0.5346 - accuracy: 0.8333 - val_loss: 0.5835 - val_accuracy: 0.9000\n",
      "Epoch 260/300\n",
      "120/120 [==============================] - 0s 497us/sample - loss: 0.5335 - accuracy: 0.8333 - val_loss: 0.5820 - val_accuracy: 0.9000\n",
      "Epoch 261/300\n",
      "120/120 [==============================] - 0s 445us/sample - loss: 0.5321 - accuracy: 0.8333 - val_loss: 0.5806 - val_accuracy: 0.9000\n",
      "Epoch 262/300\n",
      "120/120 [==============================] - 0s 490us/sample - loss: 0.5308 - accuracy: 0.8333 - val_loss: 0.5796 - val_accuracy: 0.9000\n",
      "Epoch 263/300\n",
      "120/120 [==============================] - 0s 862us/sample - loss: 0.5295 - accuracy: 0.8333 - val_loss: 0.5782 - val_accuracy: 0.9000\n",
      "Epoch 264/300\n",
      "120/120 [==============================] - 0s 735us/sample - loss: 0.5282 - accuracy: 0.8333 - val_loss: 0.5770 - val_accuracy: 0.9000\n",
      "Epoch 265/300\n",
      "120/120 [==============================] - 0s 513us/sample - loss: 0.5270 - accuracy: 0.8333 - val_loss: 0.5758 - val_accuracy: 0.9000\n",
      "Epoch 266/300\n",
      "120/120 [==============================] - 0s 841us/sample - loss: 0.5256 - accuracy: 0.8333 - val_loss: 0.5744 - val_accuracy: 0.9000\n",
      "Epoch 267/300\n",
      "120/120 [==============================] - 0s 709us/sample - loss: 0.5244 - accuracy: 0.8333 - val_loss: 0.5731 - val_accuracy: 0.9000\n",
      "Epoch 268/300\n",
      "120/120 [==============================] - 0s 399us/sample - loss: 0.5231 - accuracy: 0.8333 - val_loss: 0.5718 - val_accuracy: 0.9000\n",
      "Epoch 269/300\n",
      "120/120 [==============================] - 0s 711us/sample - loss: 0.5221 - accuracy: 0.8333 - val_loss: 0.5703 - val_accuracy: 0.9000\n",
      "Epoch 270/300\n",
      "120/120 [==============================] - 0s 489us/sample - loss: 0.5206 - accuracy: 0.8333 - val_loss: 0.5691 - val_accuracy: 0.9000\n",
      "Epoch 271/300\n",
      "120/120 [==============================] - 0s 782us/sample - loss: 0.5195 - accuracy: 0.8333 - val_loss: 0.5678 - val_accuracy: 0.9000\n",
      "Epoch 272/300\n",
      "120/120 [==============================] - 0s 533us/sample - loss: 0.5184 - accuracy: 0.8333 - val_loss: 0.5668 - val_accuracy: 0.9000\n",
      "Epoch 273/300\n",
      "120/120 [==============================] - 0s 449us/sample - loss: 0.5170 - accuracy: 0.8333 - val_loss: 0.5656 - val_accuracy: 0.9000\n",
      "Epoch 274/300\n",
      "120/120 [==============================] - 0s 489us/sample - loss: 0.5158 - accuracy: 0.8333 - val_loss: 0.5642 - val_accuracy: 0.9000\n",
      "Epoch 275/300\n",
      "120/120 [==============================] - ETA: 0s - loss: 0.5217 - accuracy: 0.81 - 0s 454us/sample - loss: 0.5146 - accuracy: 0.8333 - val_loss: 0.5631 - val_accuracy: 0.9000\n"
     ]
    },
    {
     "name": "stdout",
     "output_type": "stream",
     "text": [
      "Epoch 276/300\n",
      "120/120 [==============================] - 0s 447us/sample - loss: 0.5134 - accuracy: 0.8333 - val_loss: 0.5620 - val_accuracy: 0.9000\n",
      "Epoch 277/300\n",
      "120/120 [==============================] - 0s 445us/sample - loss: 0.5122 - accuracy: 0.8333 - val_loss: 0.5607 - val_accuracy: 0.9000\n",
      "Epoch 278/300\n",
      "120/120 [==============================] - 0s 487us/sample - loss: 0.5110 - accuracy: 0.8333 - val_loss: 0.5593 - val_accuracy: 0.9000\n",
      "Epoch 279/300\n",
      "120/120 [==============================] - 0s 799us/sample - loss: 0.5099 - accuracy: 0.8333 - val_loss: 0.5579 - val_accuracy: 0.9000\n",
      "Epoch 280/300\n",
      "120/120 [==============================] - 0s 930us/sample - loss: 0.5086 - accuracy: 0.8333 - val_loss: 0.5568 - val_accuracy: 0.9000\n",
      "Epoch 281/300\n",
      "120/120 [==============================] - 0s 587us/sample - loss: 0.5076 - accuracy: 0.8333 - val_loss: 0.5557 - val_accuracy: 0.9000\n",
      "Epoch 282/300\n",
      "120/120 [==============================] - 0s 835us/sample - loss: 0.5065 - accuracy: 0.8333 - val_loss: 0.5542 - val_accuracy: 0.9000\n",
      "Epoch 283/300\n",
      "120/120 [==============================] - 0s 538us/sample - loss: 0.5051 - accuracy: 0.8333 - val_loss: 0.5532 - val_accuracy: 0.9000\n",
      "Epoch 284/300\n",
      "120/120 [==============================] - 0s 469us/sample - loss: 0.5040 - accuracy: 0.8417 - val_loss: 0.5520 - val_accuracy: 0.9000\n",
      "Epoch 285/300\n",
      "120/120 [==============================] - 0s 458us/sample - loss: 0.5028 - accuracy: 0.8333 - val_loss: 0.5508 - val_accuracy: 0.9000\n",
      "Epoch 286/300\n",
      "120/120 [==============================] - 0s 514us/sample - loss: 0.5017 - accuracy: 0.8333 - val_loss: 0.5498 - val_accuracy: 0.9000\n",
      "Epoch 287/300\n",
      "120/120 [==============================] - 0s 698us/sample - loss: 0.5005 - accuracy: 0.8333 - val_loss: 0.5488 - val_accuracy: 0.9000\n",
      "Epoch 288/300\n",
      "120/120 [==============================] - 0s 555us/sample - loss: 0.4998 - accuracy: 0.8333 - val_loss: 0.5481 - val_accuracy: 0.9000\n",
      "Epoch 289/300\n",
      "120/120 [==============================] - 0s 488us/sample - loss: 0.4983 - accuracy: 0.8333 - val_loss: 0.5467 - val_accuracy: 0.9000\n",
      "Epoch 290/300\n",
      "120/120 [==============================] - 0s 681us/sample - loss: 0.4973 - accuracy: 0.8333 - val_loss: 0.5453 - val_accuracy: 0.9000\n",
      "Epoch 291/300\n",
      "120/120 [==============================] - 0s 584us/sample - loss: 0.4961 - accuracy: 0.8333 - val_loss: 0.5441 - val_accuracy: 0.9000\n",
      "Epoch 292/300\n",
      "120/120 [==============================] - ETA: 0s - loss: 0.4851 - accuracy: 0.81 - 0s 844us/sample - loss: 0.4949 - accuracy: 0.8417 - val_loss: 0.5429 - val_accuracy: 0.9000\n",
      "Epoch 293/300\n",
      "120/120 [==============================] - 0s 706us/sample - loss: 0.4939 - accuracy: 0.8333 - val_loss: 0.5419 - val_accuracy: 0.9000\n",
      "Epoch 294/300\n",
      "120/120 [==============================] - 0s 500us/sample - loss: 0.4927 - accuracy: 0.8417 - val_loss: 0.5408 - val_accuracy: 0.9000\n",
      "Epoch 295/300\n",
      "120/120 [==============================] - 0s 778us/sample - loss: 0.4917 - accuracy: 0.8417 - val_loss: 0.5396 - val_accuracy: 0.9000\n",
      "Epoch 296/300\n",
      "120/120 [==============================] - 0s 759us/sample - loss: 0.4906 - accuracy: 0.8417 - val_loss: 0.5385 - val_accuracy: 0.9000\n",
      "Epoch 297/300\n",
      "120/120 [==============================] - 0s 564us/sample - loss: 0.4895 - accuracy: 0.8417 - val_loss: 0.5374 - val_accuracy: 0.9000\n",
      "Epoch 298/300\n",
      "120/120 [==============================] - 0s 538us/sample - loss: 0.4884 - accuracy: 0.8417 - val_loss: 0.5364 - val_accuracy: 0.9000\n",
      "Epoch 299/300\n",
      "120/120 [==============================] - 0s 537us/sample - loss: 0.4874 - accuracy: 0.8417 - val_loss: 0.5354 - val_accuracy: 0.9000\n",
      "Epoch 300/300\n",
      "120/120 [==============================] - 0s 723us/sample - loss: 0.4863 - accuracy: 0.8417 - val_loss: 0.5342 - val_accuracy: 0.9000\n"
     ]
    },
    {
     "data": {
      "text/plain": [
       "<tensorflow.python.keras.callbacks.History at 0x1fbe583e508>"
      ]
     },
     "execution_count": 29,
     "metadata": {},
     "output_type": "execute_result"
    }
   ],
   "source": [
    "model.fit(x=scaled_X_train,y=y_train,epochs=300,validation_data=(scaler_X_test,y_test),callbacks=[early_stopping])"
   ]
  },
  {
   "cell_type": "code",
   "execution_count": 30,
   "metadata": {},
   "outputs": [],
   "source": [
    "metrics=pd.DataFrame(model.history.history)"
   ]
  },
  {
   "cell_type": "code",
   "execution_count": 31,
   "metadata": {},
   "outputs": [
    {
     "data": {
      "text/html": [
       "<div>\n",
       "<style scoped>\n",
       "    .dataframe tbody tr th:only-of-type {\n",
       "        vertical-align: middle;\n",
       "    }\n",
       "\n",
       "    .dataframe tbody tr th {\n",
       "        vertical-align: top;\n",
       "    }\n",
       "\n",
       "    .dataframe thead th {\n",
       "        text-align: right;\n",
       "    }\n",
       "</style>\n",
       "<table border=\"1\" class=\"dataframe\">\n",
       "  <thead>\n",
       "    <tr style=\"text-align: right;\">\n",
       "      <th></th>\n",
       "      <th>loss</th>\n",
       "      <th>accuracy</th>\n",
       "      <th>val_loss</th>\n",
       "      <th>val_accuracy</th>\n",
       "    </tr>\n",
       "  </thead>\n",
       "  <tbody>\n",
       "    <tr>\n",
       "      <td>0</td>\n",
       "      <td>1.183851</td>\n",
       "      <td>0.350000</td>\n",
       "      <td>1.225993</td>\n",
       "      <td>0.266667</td>\n",
       "    </tr>\n",
       "    <tr>\n",
       "      <td>1</td>\n",
       "      <td>1.180459</td>\n",
       "      <td>0.350000</td>\n",
       "      <td>1.222851</td>\n",
       "      <td>0.266667</td>\n",
       "    </tr>\n",
       "    <tr>\n",
       "      <td>2</td>\n",
       "      <td>1.177767</td>\n",
       "      <td>0.350000</td>\n",
       "      <td>1.219367</td>\n",
       "      <td>0.266667</td>\n",
       "    </tr>\n",
       "    <tr>\n",
       "      <td>3</td>\n",
       "      <td>1.174800</td>\n",
       "      <td>0.350000</td>\n",
       "      <td>1.215927</td>\n",
       "      <td>0.266667</td>\n",
       "    </tr>\n",
       "    <tr>\n",
       "      <td>4</td>\n",
       "      <td>1.171811</td>\n",
       "      <td>0.350000</td>\n",
       "      <td>1.212813</td>\n",
       "      <td>0.266667</td>\n",
       "    </tr>\n",
       "    <tr>\n",
       "      <td>...</td>\n",
       "      <td>...</td>\n",
       "      <td>...</td>\n",
       "      <td>...</td>\n",
       "      <td>...</td>\n",
       "    </tr>\n",
       "    <tr>\n",
       "      <td>295</td>\n",
       "      <td>0.490586</td>\n",
       "      <td>0.841667</td>\n",
       "      <td>0.538507</td>\n",
       "      <td>0.900000</td>\n",
       "    </tr>\n",
       "    <tr>\n",
       "      <td>296</td>\n",
       "      <td>0.489487</td>\n",
       "      <td>0.841667</td>\n",
       "      <td>0.537400</td>\n",
       "      <td>0.900000</td>\n",
       "    </tr>\n",
       "    <tr>\n",
       "      <td>297</td>\n",
       "      <td>0.488441</td>\n",
       "      <td>0.841667</td>\n",
       "      <td>0.536397</td>\n",
       "      <td>0.900000</td>\n",
       "    </tr>\n",
       "    <tr>\n",
       "      <td>298</td>\n",
       "      <td>0.487403</td>\n",
       "      <td>0.841667</td>\n",
       "      <td>0.535396</td>\n",
       "      <td>0.900000</td>\n",
       "    </tr>\n",
       "    <tr>\n",
       "      <td>299</td>\n",
       "      <td>0.486276</td>\n",
       "      <td>0.841667</td>\n",
       "      <td>0.534210</td>\n",
       "      <td>0.900000</td>\n",
       "    </tr>\n",
       "  </tbody>\n",
       "</table>\n",
       "<p>300 rows × 4 columns</p>\n",
       "</div>"
      ],
      "text/plain": [
       "         loss  accuracy  val_loss  val_accuracy\n",
       "0    1.183851  0.350000  1.225993      0.266667\n",
       "1    1.180459  0.350000  1.222851      0.266667\n",
       "2    1.177767  0.350000  1.219367      0.266667\n",
       "3    1.174800  0.350000  1.215927      0.266667\n",
       "4    1.171811  0.350000  1.212813      0.266667\n",
       "..        ...       ...       ...           ...\n",
       "295  0.490586  0.841667  0.538507      0.900000\n",
       "296  0.489487  0.841667  0.537400      0.900000\n",
       "297  0.488441  0.841667  0.536397      0.900000\n",
       "298  0.487403  0.841667  0.535396      0.900000\n",
       "299  0.486276  0.841667  0.534210      0.900000\n",
       "\n",
       "[300 rows x 4 columns]"
      ]
     },
     "execution_count": 31,
     "metadata": {},
     "output_type": "execute_result"
    }
   ],
   "source": [
    "metrics"
   ]
  },
  {
   "cell_type": "code",
   "execution_count": 32,
   "metadata": {},
   "outputs": [],
   "source": [
    "import matplotlib.pyplot as plt"
   ]
  },
  {
   "cell_type": "code",
   "execution_count": 33,
   "metadata": {},
   "outputs": [
    {
     "data": {
      "text/plain": [
       "<matplotlib.axes._subplots.AxesSubplot at 0x1fbe736a148>"
      ]
     },
     "execution_count": 33,
     "metadata": {},
     "output_type": "execute_result"
    },
    {
     "data": {
      "image/png": "[encoded data removed]",
      "text/plain": [
       "<Figure size 432x288 with 1 Axes>"
      ]
     },
     "metadata": {
      "needs_background": "light"
     },
     "output_type": "display_data"
    }
   ],
   "source": [
    "metrics[['loss','val_loss']].plot()"
   ]
  },
  {
   "cell_type": "code",
   "execution_count": 34,
   "metadata": {},
   "outputs": [
    {
     "data": {
      "text/plain": [
       "<matplotlib.axes._subplots.AxesSubplot at 0x1fbe974aac8>"
      ]
     },
     "execution_count": 34,
     "metadata": {},
     "output_type": "execute_result"
    },
    {
     "data": {
      "image/png": "[encoded data removed]",
      "text/plain": [
       "<Figure size 432x288 with 1 Axes>"
      ]
     },
     "metadata": {
      "needs_background": "light"
     },
     "output_type": "display_data"
    }
   ],
   "source": [
    "metrics[['accuracy','val_accuracy']].plot()"
   ]
  },
  {
   "cell_type": "code",
   "execution_count": 35,
   "metadata": {},
   "outputs": [
    {
     "data": {
      "text/plain": [
       "[0.4855556885401408, 0.84166664]"
      ]
     },
     "execution_count": 35,
     "metadata": {},
     "output_type": "execute_result"
    }
   ],
   "source": [
    "model.evaluate(x=scaled_X_train,y=y_train,verbose=0)"
   ]
  },
  {
   "cell_type": "code",
   "execution_count": 36,
   "metadata": {},
   "outputs": [
    {
     "data": {
      "text/plain": [
       "[0.5342098474502563, 0.9]"
      ]
     },
     "execution_count": 36,
     "metadata": {},
     "output_type": "execute_result"
    }
   ],
   "source": [
    "model.evaluate(x=scaler_X_test,y=y_test,verbose=0)"
   ]
  },
  {
   "cell_type": "code",
   "execution_count": 37,
   "metadata": {},
   "outputs": [
    {
     "data": {
      "text/plain": [
       "['loss', 'accuracy']"
      ]
     },
     "execution_count": 37,
     "metadata": {},
     "output_type": "execute_result"
    }
   ],
   "source": [
    "model.metrics_names"
   ]
  },
  {
   "cell_type": "code",
   "execution_count": 38,
   "metadata": {},
   "outputs": [],
   "source": [
    "#if you are ready for your model for deployment you can deploy it now"
   ]
  },
  {
   "cell_type": "markdown",
   "metadata": {},
   "source": [
    "before deploying we want to make sure that we use all our data"
   ]
  },
  {
   "cell_type": "markdown",
   "metadata": {},
   "source": [
    "hence we will train on al our data"
   ]
  },
  {
   "cell_type": "code",
   "execution_count": 39,
   "metadata": {},
   "outputs": [],
   "source": [
    "epochs=len(metrics) #we run for same no of epochs"
   ]
  },
  {
   "cell_type": "code",
   "execution_count": 40,
   "metadata": {},
   "outputs": [
    {
     "data": {
      "text/plain": [
       "300"
      ]
     },
     "execution_count": 40,
     "metadata": {},
     "output_type": "execute_result"
    }
   ],
   "source": [
    "epochs"
   ]
  },
  {
   "cell_type": "code",
   "execution_count": 41,
   "metadata": {},
   "outputs": [],
   "source": [
    "scaled_X=scaler.fit_transform(X)"
   ]
  },
  {
   "cell_type": "code",
   "execution_count": 42,
   "metadata": {},
   "outputs": [],
   "source": [
    "model=Sequential()\n",
    "model.add(Dense(units=4,activation='relu',input_shape=[4,]))\n",
    "#sinc there are only 4 feature and we are not worry about batches hence input shape is [4,]\n",
    "model.add(Dense(units=3,activation='softmax'))# output belong to three class\n",
    "model.compile(optimizer='adam',loss='categorical_crossentropy',metrics=['accuracy'])#in metrics we specify that we will keep\n",
    "#trac of accuracy"
   ]
  },
  {
   "cell_type": "code",
   "execution_count": 43,
   "metadata": {},
   "outputs": [
    {
     "name": "stdout",
     "output_type": "stream",
     "text": [
      "Train on 150 samples\n",
      "Epoch 1/300\n",
      "150/150 [==============================] - 1s 6ms/sample - loss: 1.1321 - accuracy: 0.3333\n",
      "Epoch 2/300\n",
      "150/150 [==============================] - 0s 95us/sample - loss: 1.1202 - accuracy: 0.3333\n",
      "Epoch 3/300\n",
      "150/150 [==============================] - 0s 96us/sample - loss: 1.1096 - accuracy: 0.3333\n",
      "Epoch 4/300\n",
      "150/150 [==============================] - 0s 112us/sample - loss: 1.0997 - accuracy: 0.3333\n",
      "Epoch 5/300\n",
      "150/150 [==============================] - 0s 91us/sample - loss: 1.0895 - accuracy: 0.3333\n",
      "Epoch 6/300\n",
      "150/150 [==============================] - 0s 92us/sample - loss: 1.0800 - accuracy: 0.3333\n",
      "Epoch 7/300\n",
      "150/150 [==============================] - 0s 71us/sample - loss: 1.0711 - accuracy: 0.3400\n",
      "Epoch 8/300\n",
      "150/150 [==============================] - 0s 107us/sample - loss: 1.0631 - accuracy: 0.3600\n",
      "Epoch 9/300\n",
      "150/150 [==============================] - 0s 119us/sample - loss: 1.0547 - accuracy: 0.3800\n",
      "Epoch 10/300\n",
      "150/150 [==============================] - 0s 128us/sample - loss: 1.0479 - accuracy: 0.3933\n",
      "Epoch 11/300\n",
      "150/150 [==============================] - 0s 97us/sample - loss: 1.0398 - accuracy: 0.4000\n",
      "Epoch 12/300\n",
      "150/150 [==============================] - 0s 99us/sample - loss: 1.0327 - accuracy: 0.4333\n",
      "Epoch 13/300\n",
      "150/150 [==============================] - 0s 104us/sample - loss: 1.0260 - accuracy: 0.4400\n",
      "Epoch 14/300\n",
      "150/150 [==============================] - 0s 81us/sample - loss: 1.0195 - accuracy: 0.4800\n",
      "Epoch 15/300\n",
      "150/150 [==============================] - 0s 80us/sample - loss: 1.0131 - accuracy: 0.5133\n",
      "Epoch 16/300\n",
      "150/150 [==============================] - 0s 74us/sample - loss: 1.0068 - accuracy: 0.5400\n",
      "Epoch 17/300\n",
      "150/150 [==============================] - 0s 104us/sample - loss: 1.0008 - accuracy: 0.5533\n",
      "Epoch 18/300\n",
      "150/150 [==============================] - 0s 104us/sample - loss: 0.9948 - accuracy: 0.5600\n",
      "Epoch 19/300\n",
      "150/150 [==============================] - 0s 113us/sample - loss: 0.9891 - accuracy: 0.5733\n",
      "Epoch 20/300\n",
      "150/150 [==============================] - 0s 87us/sample - loss: 0.9836 - accuracy: 0.5800\n",
      "Epoch 21/300\n",
      "150/150 [==============================] - 0s 114us/sample - loss: 0.9781 - accuracy: 0.5800\n",
      "Epoch 22/300\n",
      "150/150 [==============================] - 0s 103us/sample - loss: 0.9726 - accuracy: 0.5867\n",
      "Epoch 23/300\n",
      "150/150 [==============================] - 0s 92us/sample - loss: 0.9671 - accuracy: 0.6000\n",
      "Epoch 24/300\n",
      "150/150 [==============================] - 0s 98us/sample - loss: 0.9620 - accuracy: 0.6133\n",
      "Epoch 25/300\n",
      "150/150 [==============================] - 0s 89us/sample - loss: 0.9565 - accuracy: 0.6200\n",
      "Epoch 26/300\n",
      "150/150 [==============================] - 0s 87us/sample - loss: 0.9515 - accuracy: 0.6200\n",
      "Epoch 27/300\n",
      "150/150 [==============================] - 0s 106us/sample - loss: 0.9462 - accuracy: 0.6200\n",
      "Epoch 28/300\n",
      "150/150 [==============================] - 0s 150us/sample - loss: 0.9409 - accuracy: 0.6200\n",
      "Epoch 29/300\n",
      "150/150 [==============================] - 0s 130us/sample - loss: 0.9356 - accuracy: 0.6200\n",
      "Epoch 30/300\n",
      "150/150 [==============================] - 0s 138us/sample - loss: 0.9306 - accuracy: 0.6200\n",
      "Epoch 31/300\n",
      "150/150 [==============================] - 0s 130us/sample - loss: 0.9253 - accuracy: 0.6267\n",
      "Epoch 32/300\n",
      "150/150 [==============================] - 0s 119us/sample - loss: 0.9201 - accuracy: 0.6333\n",
      "Epoch 33/300\n",
      "150/150 [==============================] - 0s 150us/sample - loss: 0.9150 - accuracy: 0.6400\n",
      "Epoch 34/300\n",
      "150/150 [==============================] - 0s 132us/sample - loss: 0.9097 - accuracy: 0.6400\n",
      "Epoch 35/300\n",
      "150/150 [==============================] - 0s 119us/sample - loss: 0.9044 - accuracy: 0.6400\n",
      "Epoch 36/300\n",
      "150/150 [==============================] - 0s 116us/sample - loss: 0.8993 - accuracy: 0.6533\n",
      "Epoch 37/300\n",
      "150/150 [==============================] - 0s 115us/sample - loss: 0.8938 - accuracy: 0.6600\n",
      "Epoch 38/300\n",
      "150/150 [==============================] - 0s 105us/sample - loss: 0.8886 - accuracy: 0.6667\n",
      "Epoch 39/300\n",
      "150/150 [==============================] - 0s 83us/sample - loss: 0.8833 - accuracy: 0.6733\n",
      "Epoch 40/300\n",
      "150/150 [==============================] - 0s 79us/sample - loss: 0.8780 - accuracy: 0.6733\n",
      "Epoch 41/300\n",
      "150/150 [==============================] - 0s 101us/sample - loss: 0.8726 - accuracy: 0.6733\n",
      "Epoch 42/300\n",
      "150/150 [==============================] - 0s 91us/sample - loss: 0.8672 - accuracy: 0.7000\n",
      "Epoch 43/300\n",
      "150/150 [==============================] - 0s 115us/sample - loss: 0.8619 - accuracy: 0.7000\n",
      "Epoch 44/300\n",
      "150/150 [==============================] - 0s 108us/sample - loss: 0.8565 - accuracy: 0.7200\n",
      "Epoch 45/300\n",
      "150/150 [==============================] - 0s 111us/sample - loss: 0.8511 - accuracy: 0.7200\n",
      "Epoch 46/300\n",
      "150/150 [==============================] - ETA: 0s - loss: 0.8209 - accuracy: 0.71 - 0s 104us/sample - loss: 0.8457 - accuracy: 0.7200\n",
      "Epoch 47/300\n",
      "150/150 [==============================] - 0s 105us/sample - loss: 0.8402 - accuracy: 0.7200\n",
      "Epoch 48/300\n",
      "150/150 [==============================] - 0s 87us/sample - loss: 0.8347 - accuracy: 0.7200\n",
      "Epoch 49/300\n",
      "150/150 [==============================] - 0s 114us/sample - loss: 0.8293 - accuracy: 0.7200\n",
      "Epoch 50/300\n",
      "150/150 [==============================] - 0s 79us/sample - loss: 0.8238 - accuracy: 0.7333\n",
      "Epoch 51/300\n",
      "150/150 [==============================] - 0s 107us/sample - loss: 0.8183 - accuracy: 0.7400\n",
      "Epoch 52/300\n",
      "150/150 [==============================] - 0s 106us/sample - loss: 0.8129 - accuracy: 0.7400\n",
      "Epoch 53/300\n",
      "150/150 [==============================] - 0s 94us/sample - loss: 0.8075 - accuracy: 0.7400\n",
      "Epoch 54/300\n",
      "150/150 [==============================] - 0s 73us/sample - loss: 0.8019 - accuracy: 0.7533\n",
      "Epoch 55/300\n",
      "150/150 [==============================] - 0s 124us/sample - loss: 0.7965 - accuracy: 0.7533\n",
      "Epoch 56/300\n",
      "150/150 [==============================] - 0s 81us/sample - loss: 0.7911 - accuracy: 0.7400\n",
      "Epoch 57/300\n",
      "150/150 [==============================] - 0s 97us/sample - loss: 0.7856 - accuracy: 0.7400\n",
      "Epoch 58/300\n",
      "150/150 [==============================] - 0s 97us/sample - loss: 0.7802 - accuracy: 0.7400\n",
      "Epoch 59/300\n",
      "150/150 [==============================] - 0s 75us/sample - loss: 0.7749 - accuracy: 0.7400\n",
      "Epoch 60/300\n",
      "150/150 [==============================] - 0s 78us/sample - loss: 0.7695 - accuracy: 0.7467\n",
      "Epoch 61/300\n",
      "150/150 [==============================] - 0s 99us/sample - loss: 0.7641 - accuracy: 0.7400\n",
      "Epoch 62/300\n",
      "150/150 [==============================] - 0s 91us/sample - loss: 0.7588 - accuracy: 0.7400\n",
      "Epoch 63/300\n",
      "150/150 [==============================] - 0s 116us/sample - loss: 0.7535 - accuracy: 0.7400\n",
      "Epoch 64/300\n",
      "150/150 [==============================] - 0s 137us/sample - loss: 0.7482 - accuracy: 0.7400\n",
      "Epoch 65/300\n",
      "150/150 [==============================] - 0s 114us/sample - loss: 0.7431 - accuracy: 0.7400\n",
      "Epoch 66/300\n",
      "150/150 [==============================] - 0s 118us/sample - loss: 0.7379 - accuracy: 0.7333\n",
      "Epoch 67/300\n",
      "150/150 [==============================] - 0s 109us/sample - loss: 0.7328 - accuracy: 0.7333\n",
      "Epoch 68/300\n",
      "150/150 [==============================] - 0s 132us/sample - loss: 0.7278 - accuracy: 0.7333\n",
      "Epoch 69/300\n",
      "150/150 [==============================] - 0s 107us/sample - loss: 0.7226 - accuracy: 0.7333\n",
      "Epoch 70/300\n",
      "150/150 [==============================] - 0s 116us/sample - loss: 0.7177 - accuracy: 0.7333\n",
      "Epoch 71/300\n",
      "150/150 [==============================] - 0s 122us/sample - loss: 0.7128 - accuracy: 0.7333\n",
      "Epoch 72/300\n",
      "150/150 [==============================] - 0s 105us/sample - loss: 0.7079 - accuracy: 0.7333\n",
      "Epoch 73/300\n",
      "150/150 [==============================] - 0s 106us/sample - loss: 0.7031 - accuracy: 0.7333\n",
      "Epoch 74/300\n",
      "150/150 [==============================] - 0s 92us/sample - loss: 0.6984 - accuracy: 0.7333\n",
      "Epoch 75/300\n",
      "150/150 [==============================] - 0s 93us/sample - loss: 0.6936 - accuracy: 0.7267\n",
      "Epoch 76/300\n",
      "150/150 [==============================] - 0s 97us/sample - loss: 0.6889 - accuracy: 0.7267\n",
      "Epoch 77/300\n",
      "150/150 [==============================] - 0s 117us/sample - loss: 0.6842 - accuracy: 0.7267\n",
      "Epoch 78/300\n"
     ]
    },
    {
     "name": "stdout",
     "output_type": "stream",
     "text": [
      "150/150 [==============================] - 0s 107us/sample - loss: 0.6797 - accuracy: 0.7200\n",
      "Epoch 79/300\n",
      "150/150 [==============================] - 0s 103us/sample - loss: 0.6753 - accuracy: 0.7200\n",
      "Epoch 80/300\n",
      "150/150 [==============================] - 0s 102us/sample - loss: 0.6709 - accuracy: 0.7200\n",
      "Epoch 81/300\n",
      "150/150 [==============================] - 0s 123us/sample - loss: 0.6665 - accuracy: 0.7200\n",
      "Epoch 82/300\n",
      "150/150 [==============================] - 0s 118us/sample - loss: 0.6622 - accuracy: 0.7200\n",
      "Epoch 83/300\n",
      "150/150 [==============================] - 0s 127us/sample - loss: 0.6579 - accuracy: 0.7200\n",
      "Epoch 84/300\n",
      "150/150 [==============================] - 0s 126us/sample - loss: 0.6538 - accuracy: 0.7200\n",
      "Epoch 85/300\n",
      "150/150 [==============================] - 0s 105us/sample - loss: 0.6496 - accuracy: 0.7200\n",
      "Epoch 86/300\n",
      "150/150 [==============================] - 0s 122us/sample - loss: 0.6456 - accuracy: 0.7200\n",
      "Epoch 87/300\n",
      "150/150 [==============================] - 0s 116us/sample - loss: 0.6415 - accuracy: 0.7200\n",
      "Epoch 88/300\n",
      "150/150 [==============================] - 0s 155us/sample - loss: 0.6376 - accuracy: 0.7200\n",
      "Epoch 89/300\n",
      "150/150 [==============================] - 0s 115us/sample - loss: 0.6338 - accuracy: 0.7200\n",
      "Epoch 90/300\n",
      "150/150 [==============================] - 0s 103us/sample - loss: 0.6298 - accuracy: 0.7200\n",
      "Epoch 91/300\n",
      "150/150 [==============================] - 0s 119us/sample - loss: 0.6261 - accuracy: 0.7200\n",
      "Epoch 92/300\n",
      "150/150 [==============================] - 0s 115us/sample - loss: 0.6224 - accuracy: 0.7200\n",
      "Epoch 93/300\n",
      "150/150 [==============================] - 0s 120us/sample - loss: 0.6187 - accuracy: 0.7200\n",
      "Epoch 94/300\n",
      "150/150 [==============================] - 0s 119us/sample - loss: 0.6151 - accuracy: 0.7200\n",
      "Epoch 95/300\n",
      "150/150 [==============================] - 0s 117us/sample - loss: 0.6115 - accuracy: 0.7200\n",
      "Epoch 96/300\n",
      "150/150 [==============================] - 0s 113us/sample - loss: 0.6081 - accuracy: 0.7267\n",
      "Epoch 97/300\n",
      "150/150 [==============================] - 0s 118us/sample - loss: 0.6047 - accuracy: 0.7333\n",
      "Epoch 98/300\n",
      "150/150 [==============================] - 0s 124us/sample - loss: 0.6011 - accuracy: 0.7333\n",
      "Epoch 99/300\n",
      "150/150 [==============================] - 0s 124us/sample - loss: 0.5978 - accuracy: 0.7333\n",
      "Epoch 100/300\n",
      "150/150 [==============================] - 0s 124us/sample - loss: 0.5946 - accuracy: 0.7333\n",
      "Epoch 101/300\n",
      "150/150 [==============================] - 0s 125us/sample - loss: 0.5913 - accuracy: 0.7333\n",
      "Epoch 102/300\n",
      "150/150 [==============================] - 0s 142us/sample - loss: 0.5881 - accuracy: 0.7467\n",
      "Epoch 103/300\n",
      "150/150 [==============================] - 0s 111us/sample - loss: 0.5850 - accuracy: 0.7467\n",
      "Epoch 104/300\n",
      "150/150 [==============================] - 0s 121us/sample - loss: 0.5819 - accuracy: 0.7533\n",
      "Epoch 105/300\n",
      "150/150 [==============================] - 0s 114us/sample - loss: 0.5789 - accuracy: 0.7600\n",
      "Epoch 106/300\n",
      "150/150 [==============================] - 0s 124us/sample - loss: 0.5758 - accuracy: 0.7667\n",
      "Epoch 107/300\n",
      "150/150 [==============================] - 0s 111us/sample - loss: 0.5730 - accuracy: 0.7667\n",
      "Epoch 108/300\n",
      "150/150 [==============================] - 0s 130us/sample - loss: 0.5701 - accuracy: 0.7667\n",
      "Epoch 109/300\n",
      "150/150 [==============================] - 0s 111us/sample - loss: 0.5673 - accuracy: 0.7600\n",
      "Epoch 110/300\n",
      "150/150 [==============================] - 0s 123us/sample - loss: 0.5645 - accuracy: 0.7600\n",
      "Epoch 111/300\n",
      "150/150 [==============================] - 0s 126us/sample - loss: 0.5618 - accuracy: 0.7667\n",
      "Epoch 112/300\n",
      "150/150 [==============================] - 0s 110us/sample - loss: 0.5591 - accuracy: 0.7667\n",
      "Epoch 113/300\n",
      "150/150 [==============================] - 0s 105us/sample - loss: 0.5566 - accuracy: 0.7667\n",
      "Epoch 114/300\n",
      "150/150 [==============================] - 0s 117us/sample - loss: 0.5539 - accuracy: 0.7667\n",
      "Epoch 115/300\n",
      "150/150 [==============================] - 0s 128us/sample - loss: 0.5513 - accuracy: 0.7867\n",
      "Epoch 116/300\n",
      "150/150 [==============================] - 0s 140us/sample - loss: 0.5488 - accuracy: 0.7867\n",
      "Epoch 117/300\n",
      "150/150 [==============================] - 0s 117us/sample - loss: 0.5463 - accuracy: 0.7867\n",
      "Epoch 118/300\n",
      "150/150 [==============================] - 0s 136us/sample - loss: 0.5439 - accuracy: 0.7867\n",
      "Epoch 119/300\n",
      "150/150 [==============================] - 0s 125us/sample - loss: 0.5415 - accuracy: 0.7933\n",
      "Epoch 120/300\n",
      "150/150 [==============================] - 0s 139us/sample - loss: 0.5393 - accuracy: 0.7933\n",
      "Epoch 121/300\n",
      "150/150 [==============================] - 0s 113us/sample - loss: 0.5369 - accuracy: 0.7933\n",
      "Epoch 122/300\n",
      "150/150 [==============================] - 0s 142us/sample - loss: 0.5346 - accuracy: 0.7933\n",
      "Epoch 123/300\n",
      "150/150 [==============================] - 0s 111us/sample - loss: 0.5323 - accuracy: 0.7933\n",
      "Epoch 124/300\n",
      "150/150 [==============================] - 0s 102us/sample - loss: 0.5302 - accuracy: 0.7933\n",
      "Epoch 125/300\n",
      "150/150 [==============================] - 0s 127us/sample - loss: 0.5280 - accuracy: 0.7933\n",
      "Epoch 126/300\n",
      "150/150 [==============================] - 0s 124us/sample - loss: 0.5257 - accuracy: 0.8000\n",
      "Epoch 127/300\n",
      "150/150 [==============================] - 0s 110us/sample - loss: 0.5237 - accuracy: 0.8000\n",
      "Epoch 128/300\n",
      "150/150 [==============================] - 0s 126us/sample - loss: 0.5215 - accuracy: 0.8000\n",
      "Epoch 129/300\n",
      "150/150 [==============================] - 0s 133us/sample - loss: 0.5194 - accuracy: 0.8067\n",
      "Epoch 130/300\n",
      "150/150 [==============================] - 0s 105us/sample - loss: 0.5174 - accuracy: 0.8133\n",
      "Epoch 131/300\n",
      "150/150 [==============================] - 0s 143us/sample - loss: 0.5154 - accuracy: 0.8133\n",
      "Epoch 132/300\n",
      "150/150 [==============================] - 0s 162us/sample - loss: 0.5134 - accuracy: 0.8133\n",
      "Epoch 133/300\n",
      "150/150 [==============================] - 0s 107us/sample - loss: 0.5114 - accuracy: 0.8133\n",
      "Epoch 134/300\n",
      "150/150 [==============================] - 0s 117us/sample - loss: 0.5096 - accuracy: 0.8133\n",
      "Epoch 135/300\n",
      "150/150 [==============================] - 0s 142us/sample - loss: 0.5075 - accuracy: 0.8200\n",
      "Epoch 136/300\n",
      "150/150 [==============================] - 0s 131us/sample - loss: 0.5057 - accuracy: 0.8133\n",
      "Epoch 137/300\n",
      "150/150 [==============================] - ETA: 0s - loss: 0.4675 - accuracy: 0.84 - 0s 99us/sample - loss: 0.5039 - accuracy: 0.8133\n",
      "Epoch 138/300\n",
      "150/150 [==============================] - 0s 126us/sample - loss: 0.5021 - accuracy: 0.8133\n",
      "Epoch 139/300\n",
      "150/150 [==============================] - 0s 131us/sample - loss: 0.5002 - accuracy: 0.8200\n",
      "Epoch 140/300\n",
      "150/150 [==============================] - 0s 119us/sample - loss: 0.4984 - accuracy: 0.8200\n",
      "Epoch 141/300\n",
      "150/150 [==============================] - 0s 140us/sample - loss: 0.4967 - accuracy: 0.8267\n",
      "Epoch 142/300\n",
      "150/150 [==============================] - 0s 117us/sample - loss: 0.4949 - accuracy: 0.8267\n",
      "Epoch 143/300\n",
      "150/150 [==============================] - 0s 113us/sample - loss: 0.4932 - accuracy: 0.8267\n",
      "Epoch 144/300\n",
      "150/150 [==============================] - 0s 108us/sample - loss: 0.4915 - accuracy: 0.8267\n",
      "Epoch 145/300\n",
      "150/150 [==============================] - 0s 117us/sample - loss: 0.4899 - accuracy: 0.8333\n",
      "Epoch 146/300\n",
      "150/150 [==============================] - 0s 126us/sample - loss: 0.4882 - accuracy: 0.8333\n",
      "Epoch 147/300\n",
      "150/150 [==============================] - 0s 117us/sample - loss: 0.4866 - accuracy: 0.8333\n",
      "Epoch 148/300\n",
      "150/150 [==============================] - 0s 112us/sample - loss: 0.4850 - accuracy: 0.8333\n",
      "Epoch 149/300\n",
      "150/150 [==============================] - 0s 118us/sample - loss: 0.4834 - accuracy: 0.8333\n",
      "Epoch 150/300\n",
      "150/150 [==============================] - 0s 123us/sample - loss: 0.4820 - accuracy: 0.8333\n",
      "Epoch 151/300\n",
      "150/150 [==============================] - 0s 121us/sample - loss: 0.4801 - accuracy: 0.8333\n",
      "Epoch 152/300\n",
      "150/150 [==============================] - 0s 118us/sample - loss: 0.4786 - accuracy: 0.8333\n",
      "Epoch 153/300\n",
      "150/150 [==============================] - 0s 114us/sample - loss: 0.4770 - accuracy: 0.8333\n",
      "Epoch 154/300\n"
     ]
    },
    {
     "name": "stdout",
     "output_type": "stream",
     "text": [
      "150/150 [==============================] - 0s 111us/sample - loss: 0.4755 - accuracy: 0.8333\n",
      "Epoch 155/300\n",
      "150/150 [==============================] - 0s 108us/sample - loss: 0.4739 - accuracy: 0.8333\n",
      "Epoch 156/300\n",
      "150/150 [==============================] - 0s 99us/sample - loss: 0.4723 - accuracy: 0.8400\n",
      "Epoch 157/300\n",
      "150/150 [==============================] - 0s 88us/sample - loss: 0.4709 - accuracy: 0.8400\n",
      "Epoch 158/300\n",
      "150/150 [==============================] - 0s 107us/sample - loss: 0.4693 - accuracy: 0.8467\n",
      "Epoch 159/300\n",
      "150/150 [==============================] - 0s 108us/sample - loss: 0.4678 - accuracy: 0.8467\n",
      "Epoch 160/300\n",
      "150/150 [==============================] - 0s 128us/sample - loss: 0.4663 - accuracy: 0.8467\n",
      "Epoch 161/300\n",
      "150/150 [==============================] - 0s 119us/sample - loss: 0.4648 - accuracy: 0.8533\n",
      "Epoch 162/300\n",
      "150/150 [==============================] - 0s 123us/sample - loss: 0.4634 - accuracy: 0.8533\n",
      "Epoch 163/300\n",
      "150/150 [==============================] - 0s 116us/sample - loss: 0.4619 - accuracy: 0.8533\n",
      "Epoch 164/300\n",
      "150/150 [==============================] - 0s 120us/sample - loss: 0.4606 - accuracy: 0.8533\n",
      "Epoch 165/300\n",
      "150/150 [==============================] - 0s 112us/sample - loss: 0.4591 - accuracy: 0.8600\n",
      "Epoch 166/300\n",
      "150/150 [==============================] - 0s 140us/sample - loss: 0.4577 - accuracy: 0.8600\n",
      "Epoch 167/300\n",
      "150/150 [==============================] - 0s 126us/sample - loss: 0.4562 - accuracy: 0.8533\n",
      "Epoch 168/300\n",
      "150/150 [==============================] - 0s 125us/sample - loss: 0.4548 - accuracy: 0.8533\n",
      "Epoch 169/300\n",
      "150/150 [==============================] - 0s 104us/sample - loss: 0.4534 - accuracy: 0.8600\n",
      "Epoch 170/300\n",
      "150/150 [==============================] - 0s 122us/sample - loss: 0.4521 - accuracy: 0.8600\n",
      "Epoch 171/300\n",
      "150/150 [==============================] - 0s 111us/sample - loss: 0.4508 - accuracy: 0.8600\n",
      "Epoch 172/300\n",
      "150/150 [==============================] - 0s 119us/sample - loss: 0.4495 - accuracy: 0.8600\n",
      "Epoch 173/300\n",
      "150/150 [==============================] - 0s 112us/sample - loss: 0.4481 - accuracy: 0.8600\n",
      "Epoch 174/300\n",
      "150/150 [==============================] - 0s 111us/sample - loss: 0.4467 - accuracy: 0.8600\n",
      "Epoch 175/300\n",
      "150/150 [==============================] - 0s 120us/sample - loss: 0.4455 - accuracy: 0.8600\n",
      "Epoch 176/300\n",
      "150/150 [==============================] - 0s 122us/sample - loss: 0.4442 - accuracy: 0.8600\n",
      "Epoch 177/300\n",
      "150/150 [==============================] - ETA: 0s - loss: 0.4640 - accuracy: 0.81 - 0s 135us/sample - loss: 0.4429 - accuracy: 0.8600\n",
      "Epoch 178/300\n",
      "150/150 [==============================] - 0s 113us/sample - loss: 0.4416 - accuracy: 0.8600\n",
      "Epoch 179/300\n",
      "150/150 [==============================] - 0s 152us/sample - loss: 0.4403 - accuracy: 0.8600\n",
      "Epoch 180/300\n",
      "150/150 [==============================] - 0s 110us/sample - loss: 0.4390 - accuracy: 0.8600\n",
      "Epoch 181/300\n",
      "150/150 [==============================] - 0s 117us/sample - loss: 0.4378 - accuracy: 0.8600\n",
      "Epoch 182/300\n",
      "150/150 [==============================] - 0s 111us/sample - loss: 0.4365 - accuracy: 0.8600\n",
      "Epoch 183/300\n",
      "150/150 [==============================] - 0s 155us/sample - loss: 0.4353 - accuracy: 0.8600\n",
      "Epoch 184/300\n",
      "150/150 [==============================] - 0s 107us/sample - loss: 0.4342 - accuracy: 0.8600\n",
      "Epoch 185/300\n",
      "150/150 [==============================] - 0s 128us/sample - loss: 0.4328 - accuracy: 0.8600\n",
      "Epoch 186/300\n",
      "150/150 [==============================] - 0s 118us/sample - loss: 0.4316 - accuracy: 0.8600\n",
      "Epoch 187/300\n",
      "150/150 [==============================] - 0s 139us/sample - loss: 0.4305 - accuracy: 0.8667\n",
      "Epoch 188/300\n",
      "150/150 [==============================] - 0s 106us/sample - loss: 0.4292 - accuracy: 0.8667\n",
      "Epoch 189/300\n",
      "150/150 [==============================] - 0s 110us/sample - loss: 0.4282 - accuracy: 0.8667\n",
      "Epoch 190/300\n",
      "150/150 [==============================] - 0s 146us/sample - loss: 0.4270 - accuracy: 0.8667\n",
      "Epoch 191/300\n",
      "150/150 [==============================] - 0s 111us/sample - loss: 0.4258 - accuracy: 0.8667\n",
      "Epoch 192/300\n",
      "150/150 [==============================] - 0s 111us/sample - loss: 0.4246 - accuracy: 0.8667\n",
      "Epoch 193/300\n",
      "150/150 [==============================] - 0s 109us/sample - loss: 0.4236 - accuracy: 0.8667\n",
      "Epoch 194/300\n",
      "150/150 [==============================] - 0s 120us/sample - loss: 0.4223 - accuracy: 0.8667\n",
      "Epoch 195/300\n",
      "150/150 [==============================] - 0s 102us/sample - loss: 0.4212 - accuracy: 0.8733\n",
      "Epoch 196/300\n",
      "150/150 [==============================] - 0s 129us/sample - loss: 0.4200 - accuracy: 0.8733\n",
      "Epoch 197/300\n",
      "150/150 [==============================] - 0s 155us/sample - loss: 0.4189 - accuracy: 0.8733\n",
      "Epoch 198/300\n",
      "150/150 [==============================] - 0s 108us/sample - loss: 0.4177 - accuracy: 0.8733\n",
      "Epoch 199/300\n",
      "150/150 [==============================] - 0s 111us/sample - loss: 0.4166 - accuracy: 0.8867\n",
      "Epoch 200/300\n",
      "150/150 [==============================] - 0s 113us/sample - loss: 0.4156 - accuracy: 0.8867\n",
      "Epoch 201/300\n",
      "150/150 [==============================] - 0s 111us/sample - loss: 0.4145 - accuracy: 0.8933\n",
      "Epoch 202/300\n",
      "150/150 [==============================] - 0s 115us/sample - loss: 0.4133 - accuracy: 0.8933\n",
      "Epoch 203/300\n",
      "150/150 [==============================] - 0s 117us/sample - loss: 0.4122 - accuracy: 0.8933\n",
      "Epoch 204/300\n",
      "150/150 [==============================] - 0s 136us/sample - loss: 0.4111 - accuracy: 0.8933\n",
      "Epoch 205/300\n",
      "150/150 [==============================] - 0s 126us/sample - loss: 0.4100 - accuracy: 0.8933\n",
      "Epoch 206/300\n",
      "150/150 [==============================] - 0s 122us/sample - loss: 0.4090 - accuracy: 0.8933\n",
      "Epoch 207/300\n",
      "150/150 [==============================] - 0s 102us/sample - loss: 0.4080 - accuracy: 0.8933\n",
      "Epoch 208/300\n",
      "150/150 [==============================] - 0s 93us/sample - loss: 0.4068 - accuracy: 0.8933\n",
      "Epoch 209/300\n",
      "150/150 [==============================] - 0s 100us/sample - loss: 0.4059 - accuracy: 0.8933\n",
      "Epoch 210/300\n",
      "150/150 [==============================] - 0s 121us/sample - loss: 0.4047 - accuracy: 0.8933\n",
      "Epoch 211/300\n",
      "150/150 [==============================] - 0s 119us/sample - loss: 0.4037 - accuracy: 0.8933\n",
      "Epoch 212/300\n",
      "150/150 [==============================] - 0s 125us/sample - loss: 0.4027 - accuracy: 0.8933\n",
      "Epoch 213/300\n",
      "150/150 [==============================] - 0s 126us/sample - loss: 0.4016 - accuracy: 0.8933\n",
      "Epoch 214/300\n",
      "150/150 [==============================] - 0s 150us/sample - loss: 0.4007 - accuracy: 0.8933\n",
      "Epoch 215/300\n",
      "150/150 [==============================] - 0s 132us/sample - loss: 0.3995 - accuracy: 0.8933\n",
      "Epoch 216/300\n",
      "150/150 [==============================] - 0s 245us/sample - loss: 0.3985 - accuracy: 0.8933\n",
      "Epoch 217/300\n",
      "150/150 [==============================] - 0s 130us/sample - loss: 0.3977 - accuracy: 0.9000\n",
      "Epoch 218/300\n",
      "150/150 [==============================] - 0s 133us/sample - loss: 0.3965 - accuracy: 0.9000\n",
      "Epoch 219/300\n",
      "150/150 [==============================] - 0s 117us/sample - loss: 0.3954 - accuracy: 0.9000\n",
      "Epoch 220/300\n",
      "150/150 [==============================] - 0s 83us/sample - loss: 0.3944 - accuracy: 0.9067\n",
      "Epoch 221/300\n",
      "150/150 [==============================] - 0s 110us/sample - loss: 0.3933 - accuracy: 0.9067\n",
      "Epoch 222/300\n",
      "150/150 [==============================] - 0s 130us/sample - loss: 0.3924 - accuracy: 0.9067\n",
      "Epoch 223/300\n",
      "150/150 [==============================] - 0s 114us/sample - loss: 0.3914 - accuracy: 0.9067\n",
      "Epoch 224/300\n",
      "150/150 [==============================] - 0s 109us/sample - loss: 0.3903 - accuracy: 0.9067\n",
      "Epoch 225/300\n",
      "150/150 [==============================] - 0s 140us/sample - loss: 0.3893 - accuracy: 0.9000\n",
      "Epoch 226/300\n",
      "150/150 [==============================] - 0s 112us/sample - loss: 0.3883 - accuracy: 0.9000\n",
      "Epoch 227/300\n",
      "150/150 [==============================] - 0s 106us/sample - loss: 0.3873 - accuracy: 0.8933\n",
      "Epoch 228/300\n",
      "150/150 [==============================] - 0s 110us/sample - loss: 0.3864 - accuracy: 0.9000\n",
      "Epoch 229/300\n",
      "150/150 [==============================] - 0s 116us/sample - loss: 0.3854 - accuracy: 0.9000\n",
      "Epoch 230/300\n"
     ]
    },
    {
     "name": "stdout",
     "output_type": "stream",
     "text": [
      "150/150 [==============================] - 0s 110us/sample - loss: 0.3843 - accuracy: 0.9000\n",
      "Epoch 231/300\n",
      "150/150 [==============================] - 0s 150us/sample - loss: 0.3834 - accuracy: 0.9000\n",
      "Epoch 232/300\n",
      "150/150 [==============================] - 0s 115us/sample - loss: 0.3823 - accuracy: 0.9000\n",
      "Epoch 233/300\n",
      "150/150 [==============================] - 0s 118us/sample - loss: 0.3813 - accuracy: 0.9000\n",
      "Epoch 234/300\n",
      "150/150 [==============================] - 0s 116us/sample - loss: 0.3803 - accuracy: 0.9000\n",
      "Epoch 235/300\n",
      "150/150 [==============================] - 0s 111us/sample - loss: 0.3793 - accuracy: 0.9000\n",
      "Epoch 236/300\n",
      "150/150 [==============================] - 0s 96us/sample - loss: 0.3785 - accuracy: 0.9000\n",
      "Epoch 237/300\n",
      "150/150 [==============================] - ETA: 0s - loss: 0.3797 - accuracy: 0.90 - 0s 124us/sample - loss: 0.3774 - accuracy: 0.9067\n",
      "Epoch 238/300\n",
      "150/150 [==============================] - 0s 103us/sample - loss: 0.3763 - accuracy: 0.9067\n",
      "Epoch 239/300\n",
      "150/150 [==============================] - 0s 107us/sample - loss: 0.3753 - accuracy: 0.9067\n",
      "Epoch 240/300\n",
      "150/150 [==============================] - 0s 118us/sample - loss: 0.3744 - accuracy: 0.9000\n",
      "Epoch 241/300\n",
      "150/150 [==============================] - 0s 114us/sample - loss: 0.3733 - accuracy: 0.9000\n",
      "Epoch 242/300\n",
      "150/150 [==============================] - 0s 130us/sample - loss: 0.3723 - accuracy: 0.9000\n",
      "Epoch 243/300\n",
      "150/150 [==============================] - 0s 133us/sample - loss: 0.3714 - accuracy: 0.9000\n",
      "Epoch 244/300\n",
      "150/150 [==============================] - 0s 96us/sample - loss: 0.3704 - accuracy: 0.9000\n",
      "Epoch 245/300\n",
      "150/150 [==============================] - 0s 113us/sample - loss: 0.3694 - accuracy: 0.9000\n",
      "Epoch 246/300\n",
      "150/150 [==============================] - ETA: 0s - loss: 0.3691 - accuracy: 0.93 - 0s 111us/sample - loss: 0.3684 - accuracy: 0.9000\n",
      "Epoch 247/300\n",
      "150/150 [==============================] - 0s 109us/sample - loss: 0.3674 - accuracy: 0.9000\n",
      "Epoch 248/300\n",
      "150/150 [==============================] - 0s 135us/sample - loss: 0.3664 - accuracy: 0.9000\n",
      "Epoch 249/300\n",
      "150/150 [==============================] - 0s 110us/sample - loss: 0.3655 - accuracy: 0.9000\n",
      "Epoch 250/300\n",
      "150/150 [==============================] - 0s 135us/sample - loss: 0.3644 - accuracy: 0.9000\n",
      "Epoch 251/300\n",
      "150/150 [==============================] - 0s 118us/sample - loss: 0.3636 - accuracy: 0.9000\n",
      "Epoch 252/300\n",
      "150/150 [==============================] - 0s 133us/sample - loss: 0.3625 - accuracy: 0.9000\n",
      "Epoch 253/300\n",
      "150/150 [==============================] - 0s 117us/sample - loss: 0.3616 - accuracy: 0.9000\n",
      "Epoch 254/300\n",
      "150/150 [==============================] - 0s 115us/sample - loss: 0.3606 - accuracy: 0.9067\n",
      "Epoch 255/300\n",
      "150/150 [==============================] - 0s 124us/sample - loss: 0.3596 - accuracy: 0.9067\n",
      "Epoch 256/300\n",
      "150/150 [==============================] - 0s 102us/sample - loss: 0.3585 - accuracy: 0.9067\n",
      "Epoch 257/300\n",
      "150/150 [==============================] - 0s 121us/sample - loss: 0.3576 - accuracy: 0.9067\n",
      "Epoch 258/300\n",
      "150/150 [==============================] - 0s 100us/sample - loss: 0.3568 - accuracy: 0.9067\n",
      "Epoch 259/300\n",
      "150/150 [==============================] - 0s 143us/sample - loss: 0.3557 - accuracy: 0.9000\n",
      "Epoch 260/300\n",
      "150/150 [==============================] - 0s 121us/sample - loss: 0.3549 - accuracy: 0.9000\n",
      "Epoch 261/300\n",
      "150/150 [==============================] - 0s 116us/sample - loss: 0.3539 - accuracy: 0.8933\n",
      "Epoch 262/300\n",
      "150/150 [==============================] - 0s 101us/sample - loss: 0.3529 - accuracy: 0.8933\n",
      "Epoch 263/300\n",
      "150/150 [==============================] - 0s 113us/sample - loss: 0.3520 - accuracy: 0.9000\n",
      "Epoch 264/300\n",
      "150/150 [==============================] - 0s 111us/sample - loss: 0.3510 - accuracy: 0.9000\n",
      "Epoch 265/300\n",
      "150/150 [==============================] - 0s 118us/sample - loss: 0.3500 - accuracy: 0.9067\n",
      "Epoch 266/300\n",
      "150/150 [==============================] - 0s 113us/sample - loss: 0.3492 - accuracy: 0.9067\n",
      "Epoch 267/300\n",
      "150/150 [==============================] - 0s 124us/sample - loss: 0.3484 - accuracy: 0.9067\n",
      "Epoch 268/300\n",
      "150/150 [==============================] - 0s 111us/sample - loss: 0.3472 - accuracy: 0.9067\n",
      "Epoch 269/300\n",
      "150/150 [==============================] - 0s 110us/sample - loss: 0.3463 - accuracy: 0.9067\n",
      "Epoch 270/300\n",
      "150/150 [==============================] - 0s 112us/sample - loss: 0.3456 - accuracy: 0.9133\n",
      "Epoch 271/300\n",
      "150/150 [==============================] - 0s 117us/sample - loss: 0.3448 - accuracy: 0.9133\n",
      "Epoch 272/300\n",
      "150/150 [==============================] - 0s 115us/sample - loss: 0.3436 - accuracy: 0.9133\n",
      "Epoch 273/300\n",
      "150/150 [==============================] - 0s 117us/sample - loss: 0.3427 - accuracy: 0.9067\n",
      "Epoch 274/300\n",
      "150/150 [==============================] - 0s 110us/sample - loss: 0.3417 - accuracy: 0.9067\n",
      "Epoch 275/300\n",
      "150/150 [==============================] - 0s 113us/sample - loss: 0.3410 - accuracy: 0.9000\n",
      "Epoch 276/300\n",
      "150/150 [==============================] - 0s 136us/sample - loss: 0.3400 - accuracy: 0.9000\n",
      "Epoch 277/300\n",
      "150/150 [==============================] - 0s 137us/sample - loss: 0.3390 - accuracy: 0.9000\n",
      "Epoch 278/300\n",
      "150/150 [==============================] - 0s 174us/sample - loss: 0.3383 - accuracy: 0.9000\n",
      "Epoch 279/300\n",
      "150/150 [==============================] - 0s 132us/sample - loss: 0.3373 - accuracy: 0.9000\n",
      "Epoch 280/300\n",
      "150/150 [==============================] - 0s 118us/sample - loss: 0.3364 - accuracy: 0.9000\n",
      "Epoch 281/300\n",
      "150/150 [==============================] - 0s 111us/sample - loss: 0.3355 - accuracy: 0.9000\n",
      "Epoch 282/300\n",
      "150/150 [==============================] - 0s 118us/sample - loss: 0.3346 - accuracy: 0.9067\n",
      "Epoch 283/300\n",
      "150/150 [==============================] - 0s 134us/sample - loss: 0.3340 - accuracy: 0.9133\n",
      "Epoch 284/300\n",
      "150/150 [==============================] - 0s 106us/sample - loss: 0.3329 - accuracy: 0.9133\n",
      "Epoch 285/300\n",
      "150/150 [==============================] - 0s 107us/sample - loss: 0.3320 - accuracy: 0.9133\n",
      "Epoch 286/300\n",
      "150/150 [==============================] - 0s 107us/sample - loss: 0.3311 - accuracy: 0.9133\n",
      "Epoch 287/300\n",
      "150/150 [==============================] - 0s 117us/sample - loss: 0.3302 - accuracy: 0.9133\n",
      "Epoch 288/300\n",
      "150/150 [==============================] - 0s 134us/sample - loss: 0.3294 - accuracy: 0.9000\n",
      "Epoch 289/300\n",
      "150/150 [==============================] - 0s 126us/sample - loss: 0.3284 - accuracy: 0.9067\n",
      "Epoch 290/300\n",
      "150/150 [==============================] - 0s 122us/sample - loss: 0.3276 - accuracy: 0.9067\n",
      "Epoch 291/300\n",
      "150/150 [==============================] - 0s 110us/sample - loss: 0.3267 - accuracy: 0.9133\n",
      "Epoch 292/300\n",
      "150/150 [==============================] - 0s 108us/sample - loss: 0.3259 - accuracy: 0.9133\n",
      "Epoch 293/300\n",
      "150/150 [==============================] - 0s 125us/sample - loss: 0.3250 - accuracy: 0.9133\n",
      "Epoch 294/300\n",
      "150/150 [==============================] - 0s 124us/sample - loss: 0.3241 - accuracy: 0.9133\n",
      "Epoch 295/300\n",
      "150/150 [==============================] - 0s 107us/sample - loss: 0.3234 - accuracy: 0.9267\n",
      "Epoch 296/300\n",
      "150/150 [==============================] - 0s 104us/sample - loss: 0.3224 - accuracy: 0.9267\n",
      "Epoch 297/300\n",
      "150/150 [==============================] - 0s 128us/sample - loss: 0.3215 - accuracy: 0.9200\n",
      "Epoch 298/300\n",
      "150/150 [==============================] - 0s 122us/sample - loss: 0.3207 - accuracy: 0.9200\n",
      "Epoch 299/300\n",
      "150/150 [==============================] - 0s 119us/sample - loss: 0.3198 - accuracy: 0.9200\n",
      "Epoch 300/300\n",
      "150/150 [==============================] - 0s 111us/sample - loss: 0.3189 - accuracy: 0.9200\n"
     ]
    },
    {
     "data": {
      "text/plain": [
       "<tensorflow.python.keras.callbacks.History at 0x1fbe99d82c8>"
      ]
     },
     "execution_count": 43,
     "metadata": {},
     "output_type": "execute_result"
    }
   ],
   "source": [
    "model.fit(scaled_X,y,epochs=epochs)"
   ]
  },
  {
   "cell_type": "code",
   "execution_count": 44,
   "metadata": {},
   "outputs": [],
   "source": [
    "model.save(\"final_iris_model_self.h5\")"
   ]
  },
  {
   "cell_type": "code",
   "execution_count": 45,
   "metadata": {},
   "outputs": [],
   "source": [
    "#we have to save scaler itself"
   ]
  },
  {
   "cell_type": "code",
   "execution_count": 46,
   "metadata": {},
   "outputs": [],
   "source": [
    "#new data have to save scaler itself"
   ]
  },
  {
   "cell_type": "code",
   "execution_count": 47,
   "metadata": {},
   "outputs": [],
   "source": [
    "import joblib # it is built in python hence we don't need to download anything to run it"
   ]
  },
  {
   "cell_type": "code",
   "execution_count": 48,
   "metadata": {},
   "outputs": [
    {
     "data": {
      "text/plain": [
       "['iris_scaler.pkl']"
      ]
     },
     "execution_count": 48,
     "metadata": {},
     "output_type": "execute_result"
    }
   ],
   "source": [
    "joblib.dump(scaler,\"iris_scaler.pkl\")# we need to pass as value object and filename in which to save it\n",
    "#we need to save it in pikle file ie .pkl extension"
   ]
  },
  {
   "cell_type": "code",
   "execution_count": 49,
   "metadata": {},
   "outputs": [],
   "source": [
    "#we save our model in .h5 model and scaler in .pkl"
   ]
  },
  {
   "cell_type": "code",
   "execution_count": 50,
   "metadata": {},
   "outputs": [],
   "source": [
    " from tensorflow.keras.models import load_model"
   ]
  },
  {
   "cell_type": "code",
   "execution_count": 51,
   "metadata": {},
   "outputs": [],
   "source": [
    "flower_model=load_model('final_iris_model_self.h5')"
   ]
  },
  {
   "cell_type": "code",
   "execution_count": 52,
   "metadata": {},
   "outputs": [],
   "source": [
    "flower_scaler=joblib.load(\"iris_scaler.pkl\")"
   ]
  },
  {
   "cell_type": "code",
   "execution_count": 53,
   "metadata": {},
   "outputs": [],
   "source": [
    "#based on this model we can predict something"
   ]
  },
  {
   "cell_type": "code",
   "execution_count": 54,
   "metadata": {},
   "outputs": [],
   "source": [
    "#in next lecture we are going to how to take example json file flower_model and flower_scaler and return back example json file"
   ]
  },
  {
   "cell_type": "markdown",
   "metadata": {},
   "source": [
    "# creating prediction function"
   ]
  },
  {
   "cell_type": "markdown",
   "metadata": {},
   "source": [
    "we take dat process data and return data in prediction"
   ]
  },
  {
   "cell_type": "markdown",
   "metadata": {},
   "source": [
    "jason is used for this data data exchange and jason stand for JAVSCRIPT OBJECT NOTATION"
   ]
  },
  {
   "cell_type": "markdown",
   "metadata": {},
   "source": [
    "#json is similar to python dictionary"
   ]
  },
  {
   "cell_type": "code",
   "execution_count": 55,
   "metadata": {},
   "outputs": [
    {
     "data": {
      "text/html": [
       "<div>\n",
       "<style scoped>\n",
       "    .dataframe tbody tr th:only-of-type {\n",
       "        vertical-align: middle;\n",
       "    }\n",
       "\n",
       "    .dataframe tbody tr th {\n",
       "        vertical-align: top;\n",
       "    }\n",
       "\n",
       "    .dataframe thead th {\n",
       "        text-align: right;\n",
       "    }\n",
       "</style>\n",
       "<table border=\"1\" class=\"dataframe\">\n",
       "  <thead>\n",
       "    <tr style=\"text-align: right;\">\n",
       "      <th></th>\n",
       "      <th>sepal_length</th>\n",
       "      <th>sepal_width</th>\n",
       "      <th>petal_length</th>\n",
       "      <th>petal_width</th>\n",
       "      <th>species</th>\n",
       "    </tr>\n",
       "  </thead>\n",
       "  <tbody>\n",
       "    <tr>\n",
       "      <td>0</td>\n",
       "      <td>5.1</td>\n",
       "      <td>3.5</td>\n",
       "      <td>1.4</td>\n",
       "      <td>0.2</td>\n",
       "      <td>setosa</td>\n",
       "    </tr>\n",
       "  </tbody>\n",
       "</table>\n",
       "</div>"
      ],
      "text/plain": [
       "   sepal_length  sepal_width  petal_length  petal_width species\n",
       "0           5.1          3.5           1.4          0.2  setosa"
      ]
     },
     "execution_count": 55,
     "metadata": {},
     "output_type": "execute_result"
    }
   ],
   "source": [
    "iris.head(1)"
   ]
  },
  {
   "cell_type": "code",
   "execution_count": 56,
   "metadata": {},
   "outputs": [],
   "source": [
    "#exaple data point will actually look like"
   ]
  },
  {
   "cell_type": "code",
   "execution_count": 57,
   "metadata": {},
   "outputs": [],
   "source": [
    "flower_example={\n",
    "    \n",
    "                    \"sepal_length\":5.1,\n",
    "                    \"sepal_width\":3.5,\n",
    "                    \"petal_length\":1.4,\n",
    "                    \"petal_width\":0.2,\n",
    "                        \n",
    "                }"
   ]
  },
  {
   "cell_type": "code",
   "execution_count": 58,
   "metadata": {},
   "outputs": [
    {
     "data": {
      "text/plain": [
       "dict"
      ]
     },
     "execution_count": 58,
     "metadata": {},
     "output_type": "execute_result"
    }
   ],
   "source": [
    "type(flower_example)"
   ]
  },
  {
   "cell_type": "code",
   "execution_count": 59,
   "metadata": {},
   "outputs": [
    {
     "data": {
      "text/plain": [
       "array(['setosa', 'versicolor', 'virginica'], dtype='<U10')"
      ]
     },
     "execution_count": 59,
     "metadata": {},
     "output_type": "execute_result"
    }
   ],
   "source": [
    "encoder.classes_ # the order is same in which we have transformed our y in on binary encoding"
   ]
  },
  {
   "cell_type": "code",
   "execution_count": 60,
   "metadata": {},
   "outputs": [],
   "source": [
    "def return_prediction(model,scaler,sample_json):\n",
    "    s_len=sample_json['sepal_length']\n",
    "    s_wid=sample_json['sepal_width']\n",
    "    p_len=sample_json['petal_length']\n",
    "    p_wid=sample_json['petal_width']\n",
    "    classes=np.array(['setosa', 'versicolor', 'virginica'])\n",
    "    flower=[[s_len,s_wid,p_len,p_wid]]   #model expect in this format hence we pass this\n",
    "    flower=scaler.transform(flower)     # scaling flower based on scaler passed\n",
    "    class_ind=model.predict_classes(flower)[0]\n",
    "    # model return indices of flower as 0 1 or 2 accordingly in order as in classes\n",
    "    #model return array\n",
    "    return classes[class_ind]"
   ]
  },
  {
   "cell_type": "code",
   "execution_count": 61,
   "metadata": {},
   "outputs": [
    {
     "data": {
      "text/plain": [
       "'setosa'"
      ]
     },
     "execution_count": 61,
     "metadata": {},
     "output_type": "execute_result"
    }
   ],
   "source": [
    "return_prediction(flower_model,flower_scaler,flower_example)"
   ]
  },
  {
   "cell_type": "markdown",
   "metadata": {},
   "source": [
    "# code for deployment"
   ]
  },
  {
   "cell_type": "code",
   "execution_count": 62,
   "metadata": {},
   "outputs": [],
   "source": [
    "# whatever code we need for deployment we will take in single cell"
   ]
  },
  {
   "cell_type": "code",
   "execution_count": 63,
   "metadata": {},
   "outputs": [
    {
     "data": {
      "text/plain": [
       "'setosa'"
      ]
     },
     "execution_count": 63,
     "metadata": {},
     "output_type": "execute_result"
    }
   ],
   "source": [
    "from tensorflow.keras.models import load_model\n",
    "import joblib\n",
    "import numpy as np\n",
    "\n",
    "flower_model=load_model('final_iris_model_self.h5')\n",
    "flower_scaler=joblib.load(\"iris_scaler.pkl\")\n",
    "def return_prediction(model,scaler,sample_json):\n",
    "    s_len=sample_json['sepal_length']\n",
    "    s_wid=sample_json['sepal_width']\n",
    "    p_len=sample_json['petal_length']\n",
    "    p_wid=sample_json['petal_width']\n",
    "    classes=np.array(['setosa', 'versicolor', 'virginica'])\n",
    "    flower=[[s_len,s_wid,p_len,p_wid]]   #model expect in this format hence we pass this\n",
    "    flower=scaler.transform(flower)     # scaling flower based on scaler passed\n",
    "    class_ind=model.predict_classes(flower)[0]\n",
    "    # model return indices of flower as 0 1 or 2 accordingly in order as in classes\n",
    "    #model return array\n",
    "    return classes[class_ind]\n",
    "return_prediction(flower_model,flower_scaler,flower_example)\n"
   ]
  },
  {
   "cell_type": "code",
   "execution_count": 64,
   "metadata": {},
   "outputs": [],
   "source": [
    "# only this much code we will need to launch our flask application"
   ]
  },
  {
   "cell_type": "code",
   "execution_count": 65,
   "metadata": {},
   "outputs": [],
   "source": [
    "# we will deploy our model using prediction function"
   ]
  },
  {
   "cell_type": "code",
   "execution_count": 66,
   "metadata": {},
   "outputs": [],
   "source": [
    "# flask is python based web application framework"
   ]
  },
  {
   "cell_type": "code",
   "execution_count": 67,
   "metadata": {},
   "outputs": [],
   "source": [
    "#flask uses backend to handle backend of web application"
   ]
  },
  {
   "cell_type": "code",
   "execution_count": 68,
   "metadata": {},
   "outputs": [],
   "source": [
    "# we can later connect flask to frontend component such as html and css"
   ]
  },
  {
   "cell_type": "code",
   "execution_count": 69,
   "metadata": {},
   "outputs": [],
   "source": [
    "# we will integrate tensorflow model and prediction function inside flask application"
   ]
  },
  {
   "cell_type": "code",
   "execution_count": 70,
   "metadata": {},
   "outputs": [],
   "source": [
    "# we need to interact with falask application"
   ]
  },
  {
   "cell_type": "code",
   "execution_count": 71,
   "metadata": {},
   "outputs": [],
   "source": [
    "#there are two way to do this\n",
    "    # API REQUEST\n",
    "    #postman  is a program which can send json information to flask application interactiong with it\n",
    "    #and it get back result from model\n",
    "    \n",
    "    #we can do it with python as well\n",
    "        #we can use request library built in python send that over jason information and get result"
   ]
  },
  {
   "cell_type": "code",
   "execution_count": 72,
   "metadata": {},
   "outputs": [],
   "source": [
    "# after that we connect flask with html form"
   ]
  },
  {
   "cell_type": "code",
   "execution_count": 73,
   "metadata": {},
   "outputs": [],
   "source": [
    "#user will visit a application they will provide number for each of model , model runs through prediction \n",
    "#and return on new page prediction"
   ]
  },
  {
   "cell_type": "code",
   "execution_count": null,
   "metadata": {},
   "outputs": [],
   "source": []
  }
 ],
 "metadata": {
  "kernelspec": {
   "display_name": "Python 3",
   "language": "python",
   "name": "python3"
  },
  "language_info": {
   "codemirror_mode": {
    "name": "ipython",
    "version": 3
   },
   "file_extension": ".py",
   "mimetype": "text/x-python",
   "name": "python",
   "nbconvert_exporter": "python",
   "pygments_lexer": "ipython3",
   "version": "3.7.4"
  }
 },
 "nbformat": 4,
 "nbformat_minor": 2
}
